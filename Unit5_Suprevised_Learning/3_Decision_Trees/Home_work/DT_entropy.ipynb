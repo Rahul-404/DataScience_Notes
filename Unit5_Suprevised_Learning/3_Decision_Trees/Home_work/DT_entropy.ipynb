{
 "cells": [
  {
   "cell_type": "code",
   "execution_count": 1,
   "metadata": {},
   "outputs": [],
   "source": [
    "import numpy as np\n",
    "import pandas as pd\n",
    "from sklearn.metrics import confusion_matrix\n",
    "from sklearn.model_selection import train_test_split\n",
    "from sklearn.tree import DecisionTreeClassifier\n",
    "from sklearn.metrics import accuracy_score\n",
    "from sklearn.metrics import classification_report"
   ]
  },
  {
   "cell_type": "markdown",
   "metadata": {},
   "source": [
    "<h3>Data Importing</h3>"
   ]
  },
  {
   "cell_type": "code",
   "execution_count": 2,
   "metadata": {},
   "outputs": [],
   "source": [
    "df = pd.read_csv('https://archive.ics.uci.edu/ml/machine-learning-'+\n",
    "'databases/balance-scale/balance-scale.data')"
   ]
  },
  {
   "cell_type": "code",
   "execution_count": 3,
   "metadata": {},
   "outputs": [
    {
     "data": {
      "text/html": [
       "<div>\n",
       "<style scoped>\n",
       "    .dataframe tbody tr th:only-of-type {\n",
       "        vertical-align: middle;\n",
       "    }\n",
       "\n",
       "    .dataframe tbody tr th {\n",
       "        vertical-align: top;\n",
       "    }\n",
       "\n",
       "    .dataframe thead th {\n",
       "        text-align: right;\n",
       "    }\n",
       "</style>\n",
       "<table border=\"1\" class=\"dataframe\">\n",
       "  <thead>\n",
       "    <tr style=\"text-align: right;\">\n",
       "      <th></th>\n",
       "      <th>B</th>\n",
       "      <th>1</th>\n",
       "      <th>1.1</th>\n",
       "      <th>1.2</th>\n",
       "      <th>1.3</th>\n",
       "    </tr>\n",
       "  </thead>\n",
       "  <tbody>\n",
       "    <tr>\n",
       "      <th>0</th>\n",
       "      <td>R</td>\n",
       "      <td>1</td>\n",
       "      <td>1</td>\n",
       "      <td>1</td>\n",
       "      <td>2</td>\n",
       "    </tr>\n",
       "    <tr>\n",
       "      <th>1</th>\n",
       "      <td>R</td>\n",
       "      <td>1</td>\n",
       "      <td>1</td>\n",
       "      <td>1</td>\n",
       "      <td>3</td>\n",
       "    </tr>\n",
       "    <tr>\n",
       "      <th>2</th>\n",
       "      <td>R</td>\n",
       "      <td>1</td>\n",
       "      <td>1</td>\n",
       "      <td>1</td>\n",
       "      <td>4</td>\n",
       "    </tr>\n",
       "    <tr>\n",
       "      <th>3</th>\n",
       "      <td>R</td>\n",
       "      <td>1</td>\n",
       "      <td>1</td>\n",
       "      <td>1</td>\n",
       "      <td>5</td>\n",
       "    </tr>\n",
       "    <tr>\n",
       "      <th>4</th>\n",
       "      <td>R</td>\n",
       "      <td>1</td>\n",
       "      <td>1</td>\n",
       "      <td>2</td>\n",
       "      <td>1</td>\n",
       "    </tr>\n",
       "  </tbody>\n",
       "</table>\n",
       "</div>"
      ],
      "text/plain": [
       "   B  1  1.1  1.2  1.3\n",
       "0  R  1    1    1    2\n",
       "1  R  1    1    1    3\n",
       "2  R  1    1    1    4\n",
       "3  R  1    1    1    5\n",
       "4  R  1    1    2    1"
      ]
     },
     "execution_count": 3,
     "metadata": {},
     "output_type": "execute_result"
    }
   ],
   "source": [
    "df.head(5)"
   ]
  },
  {
   "cell_type": "code",
   "execution_count": 4,
   "metadata": {},
   "outputs": [
    {
     "data": {
      "text/plain": [
       "(624, 5)"
      ]
     },
     "execution_count": 4,
     "metadata": {},
     "output_type": "execute_result"
    }
   ],
   "source": [
    "df.shape"
   ]
  },
  {
   "cell_type": "code",
   "execution_count": 5,
   "metadata": {},
   "outputs": [],
   "source": [
    "x = df.values[:,1:5]\n",
    "y = df.values[:,0]"
   ]
  },
  {
   "cell_type": "code",
   "execution_count": 6,
   "metadata": {},
   "outputs": [],
   "source": [
    "x_train,x_test,y_train,y_test = train_test_split(x,y,test_size=0.3,\n",
    "                                                 random_state=100)"
   ]
  },
  {
   "cell_type": "markdown",
   "metadata": {},
   "source": [
    "<h3>Decision Tree using ENTROPY</h3>"
   ]
  },
  {
   "cell_type": "code",
   "execution_count": 8,
   "metadata": {},
   "outputs": [],
   "source": [
    "clf_entropy = DecisionTreeClassifier(criterion='entropy',\n",
    "                                  random_state=100)"
   ]
  },
  {
   "cell_type": "code",
   "execution_count": 9,
   "metadata": {},
   "outputs": [
    {
     "data": {
      "text/plain": [
       "DecisionTreeClassifier(class_weight=None, criterion='entropy', max_depth=None,\n",
       "                       max_features=None, max_leaf_nodes=None,\n",
       "                       min_impurity_decrease=0.0, min_impurity_split=None,\n",
       "                       min_samples_leaf=1, min_samples_split=2,\n",
       "                       min_weight_fraction_leaf=0.0, presort=False,\n",
       "                       random_state=100, splitter='best')"
      ]
     },
     "execution_count": 9,
     "metadata": {},
     "output_type": "execute_result"
    }
   ],
   "source": [
    "clf_entropy.fit(x_train,y_train)"
   ]
  },
  {
   "cell_type": "markdown",
   "metadata": {},
   "source": [
    "<h3>Prediction</h3>"
   ]
  },
  {
   "cell_type": "code",
   "execution_count": 10,
   "metadata": {},
   "outputs": [],
   "source": [
    "y_pred = clf_entropy.predict(x_test)"
   ]
  },
  {
   "cell_type": "code",
   "execution_count": 11,
   "metadata": {},
   "outputs": [],
   "source": [
    "y_pred=pd.Series(y_pred)"
   ]
  },
  {
   "cell_type": "code",
   "execution_count": 12,
   "metadata": {},
   "outputs": [
    {
     "data": {
      "text/html": [
       "<div>\n",
       "<style scoped>\n",
       "    .dataframe tbody tr th:only-of-type {\n",
       "        vertical-align: middle;\n",
       "    }\n",
       "\n",
       "    .dataframe tbody tr th {\n",
       "        vertical-align: top;\n",
       "    }\n",
       "\n",
       "    .dataframe thead th {\n",
       "        text-align: right;\n",
       "    }\n",
       "</style>\n",
       "<table border=\"1\" class=\"dataframe\">\n",
       "  <thead>\n",
       "    <tr style=\"text-align: right;\">\n",
       "      <th></th>\n",
       "      <th>X_test</th>\n",
       "      <th>Y_pred</th>\n",
       "    </tr>\n",
       "  </thead>\n",
       "  <tbody>\n",
       "    <tr>\n",
       "      <th>0</th>\n",
       "      <td>R</td>\n",
       "      <td>R</td>\n",
       "    </tr>\n",
       "    <tr>\n",
       "      <th>1</th>\n",
       "      <td>R</td>\n",
       "      <td>L</td>\n",
       "    </tr>\n",
       "    <tr>\n",
       "      <th>2</th>\n",
       "      <td>R</td>\n",
       "      <td>R</td>\n",
       "    </tr>\n",
       "    <tr>\n",
       "      <th>3</th>\n",
       "      <td>R</td>\n",
       "      <td>L</td>\n",
       "    </tr>\n",
       "    <tr>\n",
       "      <th>4</th>\n",
       "      <td>R</td>\n",
       "      <td>R</td>\n",
       "    </tr>\n",
       "  </tbody>\n",
       "</table>\n",
       "</div>"
      ],
      "text/plain": [
       "  X_test Y_pred\n",
       "0      R      R\n",
       "1      R      L\n",
       "2      R      R\n",
       "3      R      L\n",
       "4      R      R"
      ]
     },
     "execution_count": 12,
     "metadata": {},
     "output_type": "execute_result"
    }
   ],
   "source": [
    "pd.DataFrame({'X_test':df['B'],'Y_pred':y_pred}).head(5)"
   ]
  },
  {
   "cell_type": "code",
   "execution_count": 13,
   "metadata": {},
   "outputs": [],
   "source": [
    "import matplotlib.pyplot as plt\n",
    "import seaborn as sns"
   ]
  },
  {
   "cell_type": "code",
   "execution_count": 14,
   "metadata": {},
   "outputs": [],
   "source": [
    "cf = confusion_matrix(y_test,y_pred)"
   ]
  },
  {
   "cell_type": "markdown",
   "metadata": {},
   "source": [
    "<h3>Confusion Metrix</h3>"
   ]
  },
  {
   "cell_type": "code",
   "execution_count": 15,
   "metadata": {},
   "outputs": [
    {
     "data": {
      "text/plain": [
       "<matplotlib.axes._subplots.AxesSubplot at 0x196c33b6128>"
      ]
     },
     "execution_count": 15,
     "metadata": {},
     "output_type": "execute_result"
    },
    {
     "data": {
      "image/png": "[encoded data removed]",
      "text/plain": [
       "<Figure size 720x504 with 2 Axes>"
      ]
     },
     "metadata": {
      "needs_background": "light"
     },
     "output_type": "display_data"
    }
   ],
   "source": [
    "plt.figure(figsize=(10,7))\n",
    "sns.heatmap(cf,annot=True)"
   ]
  },
  {
   "cell_type": "code",
   "execution_count": 17,
   "metadata": {},
   "outputs": [],
   "source": [
    "from sklearn import tree"
   ]
  },
  {
   "cell_type": "code",
   "execution_count": 18,
   "metadata": {},
   "outputs": [
    {
     "data": {
      "text/plain": [
       "[Text(94.18393954918034, 209.07692307692307, 'X[2] <= 1.5\\nentropy = 1.317\\nsamples = 436\\nvalue = [34, 197, 205]'),\n",
       " Text(28.128688524590164, 192.35076923076923, 'X[0] <= 1.5\\nentropy = 0.725\\nsamples = 87\\nvalue = [3, 74, 10]'),\n",
       " Text(17.837704918032788, 175.62461538461537, 'X[1] <= 3.5\\nentropy = 1.382\\nsamples = 18\\nvalue = [2, 9, 7]'),\n",
       " Text(10.97704918032787, 158.89846153846153, 'X[3] <= 2.5\\nentropy = 1.241\\nsamples = 11\\nvalue = [1, 3, 7]'),\n",
       " Text(5.488524590163935, 142.1723076923077, 'X[1] <= 1.5\\nentropy = 0.811\\nsamples = 4\\nvalue = [0, 3, 1]'),\n",
       " Text(2.7442622950819673, 125.44615384615385, 'entropy = 0.0\\nsamples = 1\\nvalue = [0, 0, 1]'),\n",
       " Text(8.232786885245902, 125.44615384615385, 'entropy = 0.0\\nsamples = 3\\nvalue = [0, 3, 0]'),\n",
       " Text(16.465573770491805, 142.1723076923077, 'X[1] <= 2.5\\nentropy = 0.592\\nsamples = 7\\nvalue = [1, 0, 6]'),\n",
       " Text(13.721311475409836, 125.44615384615385, 'entropy = 0.0\\nsamples = 4\\nvalue = [0, 0, 4]'),\n",
       " Text(19.20983606557377, 125.44615384615385, 'X[3] <= 3.5\\nentropy = 0.918\\nsamples = 3\\nvalue = [1, 0, 2]'),\n",
       " Text(16.465573770491805, 108.72, 'entropy = 0.0\\nsamples = 1\\nvalue = [1, 0, 0]'),\n",
       " Text(21.95409836065574, 108.72, 'entropy = 0.0\\nsamples = 2\\nvalue = [0, 0, 2]'),\n",
       " Text(24.698360655737705, 158.89846153846153, 'X[3] <= 3.5\\nentropy = 0.592\\nsamples = 7\\nvalue = [1, 6, 0]'),\n",
       " Text(21.95409836065574, 142.1723076923077, 'entropy = 0.0\\nsamples = 5\\nvalue = [0, 5, 0]'),\n",
       " Text(27.442622950819672, 142.1723076923077, 'X[1] <= 4.5\\nentropy = 1.0\\nsamples = 2\\nvalue = [1, 1, 0]'),\n",
       " Text(24.698360655737705, 125.44615384615385, 'entropy = 0.0\\nsamples = 1\\nvalue = [1, 0, 0]'),\n",
       " Text(30.18688524590164, 125.44615384615385, 'entropy = 0.0\\nsamples = 1\\nvalue = [0, 1, 0]'),\n",
       " Text(38.41967213114754, 175.62461538461537, 'X[1] <= 1.5\\nentropy = 0.366\\nsamples = 69\\nvalue = [1, 65, 3]'),\n",
       " Text(35.675409836065576, 158.89846153846153, 'X[3] <= 2.5\\nentropy = 1.241\\nsamples = 11\\nvalue = [1, 7, 3]'),\n",
       " Text(32.93114754098361, 142.1723076923077, 'entropy = 0.0\\nsamples = 5\\nvalue = [0, 5, 0]'),\n",
       " Text(38.41967213114754, 142.1723076923077, 'X[0] <= 4.5\\nentropy = 1.459\\nsamples = 6\\nvalue = [1, 2, 3]'),\n",
       " Text(35.675409836065576, 125.44615384615385, 'X[0] <= 2.5\\nentropy = 0.811\\nsamples = 4\\nvalue = [1, 0, 3]'),\n",
       " Text(32.93114754098361, 108.72, 'entropy = 0.0\\nsamples = 2\\nvalue = [0, 0, 2]'),\n",
       " Text(38.41967213114754, 108.72, 'X[3] <= 4.0\\nentropy = 1.0\\nsamples = 2\\nvalue = [1, 0, 1]'),\n",
       " Text(35.675409836065576, 91.99384615384615, 'entropy = 0.0\\nsamples = 1\\nvalue = [1, 0, 0]'),\n",
       " Text(41.16393442622951, 91.99384615384615, 'entropy = 0.0\\nsamples = 1\\nvalue = [0, 0, 1]'),\n",
       " Text(41.16393442622951, 125.44615384615385, 'entropy = 0.0\\nsamples = 2\\nvalue = [0, 2, 0]'),\n",
       " Text(41.16393442622951, 158.89846153846153, 'entropy = 0.0\\nsamples = 58\\nvalue = [0, 58, 0]'),\n",
       " Text(160.2391905737705, 192.35076923076923, 'X[0] <= 2.5\\nentropy = 1.31\\nsamples = 349\\nvalue = [31, 123, 195]'),\n",
       " Text(96.90676229508198, 175.62461538461537, 'X[3] <= 2.5\\nentropy = 0.913\\nsamples = 145\\nvalue = [11, 18, 116]'),\n",
       " Text(64.83319672131148, 158.89846153846153, 'X[1] <= 2.5\\nentropy = 1.405\\nsamples = 55\\nvalue = [9, 15, 31]'),\n",
       " Text(49.39672131147541, 142.1723076923077, 'X[3] <= 1.5\\nentropy = 0.485\\nsamples = 19\\nvalue = [2, 0, 17]'),\n",
       " Text(46.65245901639344, 125.44615384615385, 'X[0] <= 1.5\\nentropy = 0.764\\nsamples = 9\\nvalue = [2, 0, 7]'),\n",
       " Text(43.90819672131148, 108.72, 'entropy = 0.0\\nsamples = 4\\nvalue = [0, 0, 4]'),\n",
       " Text(49.39672131147541, 108.72, 'X[2] <= 2.5\\nentropy = 0.971\\nsamples = 5\\nvalue = [2, 0, 3]'),\n",
       " Text(46.65245901639344, 91.99384615384615, 'entropy = 0.0\\nsamples = 1\\nvalue = [1, 0, 0]'),\n",
       " Text(52.14098360655738, 91.99384615384615, 'X[1] <= 1.5\\nentropy = 0.811\\nsamples = 4\\nvalue = [1, 0, 3]'),\n",
       " Text(49.39672131147541, 75.2676923076923, 'entropy = 0.0\\nsamples = 3\\nvalue = [0, 0, 3]'),\n",
       " Text(54.885245901639344, 75.2676923076923, 'entropy = 0.0\\nsamples = 1\\nvalue = [1, 0, 0]'),\n",
       " Text(52.14098360655738, 125.44615384615385, 'entropy = 0.0\\nsamples = 10\\nvalue = [0, 0, 10]'),\n",
       " Text(80.26967213114754, 142.1723076923077, 'X[0] <= 1.5\\nentropy = 1.516\\nsamples = 36\\nvalue = [7, 15, 14]'),\n",
       " Text(68.60655737704919, 125.44615384615385, 'X[3] <= 1.5\\nentropy = 1.224\\nsamples = 18\\nvalue = [4, 2, 12]'),\n",
       " Text(60.37377049180328, 108.72, 'X[2] <= 2.5\\nentropy = 1.557\\nsamples = 7\\nvalue = [3, 2, 2]'),\n",
       " Text(57.62950819672131, 91.99384615384615, 'entropy = 0.0\\nsamples = 2\\nvalue = [0, 2, 0]'),\n",
       " Text(63.118032786885244, 91.99384615384615, 'X[1] <= 4.5\\nentropy = 0.971\\nsamples = 5\\nvalue = [3, 0, 2]'),\n",
       " Text(60.37377049180328, 75.2676923076923, 'X[2] <= 3.5\\nentropy = 1.0\\nsamples = 4\\nvalue = [2, 0, 2]'),\n",
       " Text(57.62950819672131, 58.541538461538465, 'entropy = 0.0\\nsamples = 1\\nvalue = [1, 0, 0]'),\n",
       " Text(63.118032786885244, 58.541538461538465, 'X[2] <= 4.5\\nentropy = 0.918\\nsamples = 3\\nvalue = [1, 0, 2]'),\n",
       " Text(60.37377049180328, 41.81538461538463, 'X[1] <= 3.5\\nentropy = 1.0\\nsamples = 2\\nvalue = [1, 0, 1]'),\n",
       " Text(57.62950819672131, 25.089230769230767, 'entropy = 0.0\\nsamples = 1\\nvalue = [0, 0, 1]'),\n",
       " Text(63.118032786885244, 25.089230769230767, 'entropy = 0.0\\nsamples = 1\\nvalue = [1, 0, 0]'),\n",
       " Text(65.86229508196722, 41.81538461538463, 'entropy = 0.0\\nsamples = 1\\nvalue = [0, 0, 1]'),\n",
       " Text(65.86229508196722, 75.2676923076923, 'entropy = 0.0\\nsamples = 1\\nvalue = [1, 0, 0]'),\n",
       " Text(76.83934426229509, 108.72, 'X[2] <= 2.5\\nentropy = 0.439\\nsamples = 11\\nvalue = [1, 0, 10]'),\n",
       " Text(74.09508196721312, 91.99384615384615, 'X[1] <= 3.5\\nentropy = 1.0\\nsamples = 2\\nvalue = [1, 0, 1]'),\n",
       " Text(71.35081967213115, 75.2676923076923, 'entropy = 0.0\\nsamples = 1\\nvalue = [0, 0, 1]'),\n",
       " Text(76.83934426229509, 75.2676923076923, 'entropy = 0.0\\nsamples = 1\\nvalue = [1, 0, 0]'),\n",
       " Text(79.58360655737705, 91.99384615384615, 'entropy = 0.0\\nsamples = 9\\nvalue = [0, 0, 9]'),\n",
       " Text(91.9327868852459, 125.44615384615385, 'X[3] <= 1.5\\nentropy = 1.122\\nsamples = 18\\nvalue = [3, 13, 2]'),\n",
       " Text(89.18852459016394, 108.72, 'entropy = 0.0\\nsamples = 9\\nvalue = [0, 9, 0]'),\n",
       " Text(94.67704918032787, 108.72, 'X[2] <= 3.5\\nentropy = 1.53\\nsamples = 9\\nvalue = [3, 4, 2]'),\n",
       " Text(85.07213114754099, 91.99384615384615, 'X[2] <= 2.5\\nentropy = 0.811\\nsamples = 4\\nvalue = [1, 3, 0]'),\n",
       " Text(82.32786885245902, 75.2676923076923, 'entropy = 0.0\\nsamples = 2\\nvalue = [0, 2, 0]'),\n",
       " Text(87.81639344262295, 75.2676923076923, 'X[1] <= 3.5\\nentropy = 1.0\\nsamples = 2\\nvalue = [1, 1, 0]'),\n",
       " Text(85.07213114754099, 58.541538461538465, 'entropy = 0.0\\nsamples = 1\\nvalue = [1, 0, 0]'),\n",
       " Text(90.56065573770492, 58.541538461538465, 'entropy = 0.0\\nsamples = 1\\nvalue = [0, 1, 0]'),\n",
       " Text(104.28196721311475, 91.99384615384615, 'X[1] <= 4.5\\nentropy = 1.522\\nsamples = 5\\nvalue = [2, 1, 2]'),\n",
       " Text(98.79344262295082, 75.2676923076923, 'X[2] <= 4.5\\nentropy = 0.918\\nsamples = 3\\nvalue = [1, 0, 2]'),\n",
       " Text(96.04918032786885, 58.541538461538465, 'X[1] <= 3.5\\nentropy = 1.0\\nsamples = 2\\nvalue = [1, 0, 1]'),\n",
       " Text(93.30491803278689, 41.81538461538463, 'entropy = 0.0\\nsamples = 1\\nvalue = [0, 0, 1]'),\n",
       " Text(98.79344262295082, 41.81538461538463, 'entropy = 0.0\\nsamples = 1\\nvalue = [1, 0, 0]'),\n",
       " Text(101.53770491803279, 58.541538461538465, 'entropy = 0.0\\nsamples = 1\\nvalue = [0, 0, 1]'),\n",
       " Text(109.77049180327869, 75.2676923076923, 'X[2] <= 4.5\\nentropy = 1.0\\nsamples = 2\\nvalue = [1, 1, 0]'),\n",
       " Text(107.02622950819672, 58.541538461538465, 'entropy = 0.0\\nsamples = 1\\nvalue = [0, 1, 0]'),\n",
       " Text(112.51475409836065, 58.541538461538465, 'entropy = 0.0\\nsamples = 1\\nvalue = [1, 0, 0]'),\n",
       " Text(128.98032786885247, 158.89846153846153, 'X[1] <= 4.5\\nentropy = 0.363\\nsamples = 90\\nvalue = [2, 3, 85]'),\n",
       " Text(120.74754098360656, 142.1723076923077, 'X[2] <= 2.5\\nentropy = 0.108\\nsamples = 70\\nvalue = [1, 0, 69]'),\n",
       " Text(118.00327868852459, 125.44615384615385, 'X[3] <= 3.5\\nentropy = 0.337\\nsamples = 16\\nvalue = [1, 0, 15]'),\n",
       " Text(115.25901639344262, 108.72, 'X[1] <= 2.5\\nentropy = 0.811\\nsamples = 4\\nvalue = [1, 0, 3]'),\n",
       " Text(112.51475409836065, 91.99384615384615, 'entropy = 0.0\\nsamples = 2\\nvalue = [0, 0, 2]'),\n",
       " Text(118.00327868852459, 91.99384615384615, 'X[0] <= 1.5\\nentropy = 1.0\\nsamples = 2\\nvalue = [1, 0, 1]'),\n",
       " Text(115.25901639344262, 75.2676923076923, 'entropy = 0.0\\nsamples = 1\\nvalue = [0, 0, 1]'),\n",
       " Text(120.74754098360656, 75.2676923076923, 'entropy = 0.0\\nsamples = 1\\nvalue = [1, 0, 0]'),\n",
       " Text(120.74754098360656, 108.72, 'entropy = 0.0\\nsamples = 12\\nvalue = [0, 0, 12]'),\n",
       " Text(123.49180327868852, 125.44615384615385, 'entropy = 0.0\\nsamples = 54\\nvalue = [0, 0, 54]'),\n",
       " Text(137.21311475409837, 142.1723076923077, 'X[2] <= 2.5\\nentropy = 0.884\\nsamples = 20\\nvalue = [1, 3, 16]'),\n",
       " Text(128.98032786885247, 125.44615384615385, 'X[0] <= 1.5\\nentropy = 1.5\\nsamples = 4\\nvalue = [1, 2, 1]'),\n",
       " Text(126.23606557377049, 108.72, 'entropy = 0.0\\nsamples = 1\\nvalue = [0, 0, 1]'),\n",
       " Text(131.72459016393444, 108.72, 'X[3] <= 4.5\\nentropy = 0.918\\nsamples = 3\\nvalue = [1, 2, 0]'),\n",
       " Text(128.98032786885247, 91.99384615384615, 'entropy = 0.0\\nsamples = 2\\nvalue = [0, 2, 0]'),\n",
       " Text(134.4688524590164, 91.99384615384615, 'entropy = 0.0\\nsamples = 1\\nvalue = [1, 0, 0]'),\n",
       " Text(145.44590163934427, 125.44615384615385, 'X[3] <= 3.5\\nentropy = 0.337\\nsamples = 16\\nvalue = [0, 1, 15]'),\n",
       " Text(142.7016393442623, 108.72, 'X[2] <= 3.5\\nentropy = 0.65\\nsamples = 6\\nvalue = [0, 1, 5]'),\n",
       " Text(139.95737704918034, 91.99384615384615, 'X[0] <= 1.5\\nentropy = 1.0\\nsamples = 2\\nvalue = [0, 1, 1]'),\n",
       " Text(137.21311475409837, 75.2676923076923, 'entropy = 0.0\\nsamples = 1\\nvalue = [0, 0, 1]'),\n",
       " Text(142.7016393442623, 75.2676923076923, 'entropy = 0.0\\nsamples = 1\\nvalue = [0, 1, 0]'),\n",
       " Text(145.44590163934427, 91.99384615384615, 'entropy = 0.0\\nsamples = 4\\nvalue = [0, 0, 4]'),\n",
       " Text(148.19016393442624, 108.72, 'entropy = 0.0\\nsamples = 10\\nvalue = [0, 0, 10]'),\n",
       " Text(223.571618852459, 175.62461538461537, 'X[3] <= 2.5\\nentropy = 1.352\\nsamples = 204\\nvalue = [20, 105, 79]'),\n",
       " Text(181.12131147540984, 158.89846153846153, 'X[1] <= 2.5\\nentropy = 0.916\\nsamples = 84\\nvalue = [6, 67, 11]'),\n",
       " Text(178.37704918032787, 142.1723076923077, 'X[1] <= 1.5\\nentropy = 1.44\\nsamples = 36\\nvalue = [6, 19, 11]'),\n",
       " Text(163.28360655737706, 125.44615384615385, 'X[0] <= 4.5\\nentropy = 1.457\\nsamples = 15\\nvalue = [3, 4, 8]'),\n",
       " Text(153.67868852459017, 108.72, 'X[0] <= 3.5\\nentropy = 0.863\\nsamples = 7\\nvalue = [2, 0, 5]'),\n",
       " Text(150.9344262295082, 91.99384615384615, 'entropy = 0.0\\nsamples = 3\\nvalue = [0, 0, 3]'),\n",
       " Text(156.42295081967214, 91.99384615384615, 'X[2] <= 2.5\\nentropy = 1.0\\nsamples = 4\\nvalue = [2, 0, 2]'),\n",
       " Text(153.67868852459017, 75.2676923076923, 'entropy = 0.0\\nsamples = 1\\nvalue = [1, 0, 0]'),\n",
       " Text(159.1672131147541, 75.2676923076923, 'X[3] <= 1.5\\nentropy = 0.918\\nsamples = 3\\nvalue = [1, 0, 2]'),\n",
       " Text(156.42295081967214, 58.541538461538465, 'X[2] <= 4.5\\nentropy = 1.0\\nsamples = 2\\nvalue = [1, 0, 1]'),\n",
       " Text(153.67868852459017, 41.81538461538463, 'entropy = 0.0\\nsamples = 1\\nvalue = [1, 0, 0]'),\n",
       " Text(159.1672131147541, 41.81538461538463, 'entropy = 0.0\\nsamples = 1\\nvalue = [0, 0, 1]'),\n",
       " Text(161.91147540983607, 58.541538461538465, 'entropy = 0.0\\nsamples = 1\\nvalue = [0, 0, 1]'),\n",
       " Text(172.88852459016394, 108.72, 'X[3] <= 1.5\\nentropy = 1.406\\nsamples = 8\\nvalue = [1, 4, 3]'),\n",
       " Text(167.4, 91.99384615384615, 'X[2] <= 4.5\\nentropy = 0.811\\nsamples = 4\\nvalue = [1, 3, 0]'),\n",
       " Text(164.65573770491804, 75.2676923076923, 'entropy = 0.0\\nsamples = 3\\nvalue = [0, 3, 0]'),\n",
       " Text(170.14426229508197, 75.2676923076923, 'entropy = 0.0\\nsamples = 1\\nvalue = [1, 0, 0]'),\n",
       " Text(178.37704918032787, 91.99384615384615, 'X[2] <= 2.5\\nentropy = 0.811\\nsamples = 4\\nvalue = [0, 1, 3]'),\n",
       " Text(175.6327868852459, 75.2676923076923, 'entropy = 0.0\\nsamples = 1\\nvalue = [0, 1, 0]'),\n",
       " Text(181.12131147540984, 75.2676923076923, 'entropy = 0.0\\nsamples = 3\\nvalue = [0, 0, 3]'),\n",
       " Text(193.4704918032787, 125.44615384615385, 'X[3] <= 1.5\\nentropy = 1.149\\nsamples = 21\\nvalue = [3, 15, 3]'),\n",
       " Text(190.72622950819672, 108.72, 'entropy = 0.0\\nsamples = 10\\nvalue = [0, 10, 0]'),\n",
       " Text(196.21475409836066, 108.72, 'X[2] <= 3.5\\nentropy = 1.539\\nsamples = 11\\nvalue = [3, 5, 3]'),\n",
       " Text(189.35409836065574, 91.99384615384615, 'X[0] <= 3.5\\nentropy = 0.722\\nsamples = 5\\nvalue = [1, 4, 0]'),\n",
       " Text(186.60983606557377, 75.2676923076923, 'X[2] <= 2.5\\nentropy = 1.0\\nsamples = 2\\nvalue = [1, 1, 0]'),\n",
       " Text(183.8655737704918, 58.541538461538465, 'entropy = 0.0\\nsamples = 1\\nvalue = [0, 1, 0]'),\n",
       " Text(189.35409836065574, 58.541538461538465, 'entropy = 0.0\\nsamples = 1\\nvalue = [1, 0, 0]'),\n",
       " Text(192.0983606557377, 75.2676923076923, 'entropy = 0.0\\nsamples = 3\\nvalue = [0, 3, 0]'),\n",
       " Text(203.07540983606557, 91.99384615384615, 'X[0] <= 4.5\\nentropy = 1.459\\nsamples = 6\\nvalue = [2, 1, 3]'),\n",
       " Text(197.58688524590164, 75.2676923076923, 'X[2] <= 4.5\\nentropy = 0.811\\nsamples = 4\\nvalue = [1, 0, 3]'),\n",
       " Text(194.84262295081967, 58.541538461538465, 'X[0] <= 3.5\\nentropy = 1.0\\nsamples = 2\\nvalue = [1, 0, 1]'),\n",
       " Text(192.0983606557377, 41.81538461538463, 'entropy = 0.0\\nsamples = 1\\nvalue = [0, 0, 1]'),\n",
       " Text(197.58688524590164, 41.81538461538463, 'entropy = 0.0\\nsamples = 1\\nvalue = [1, 0, 0]'),\n",
       " Text(200.3311475409836, 58.541538461538465, 'entropy = 0.0\\nsamples = 2\\nvalue = [0, 0, 2]'),\n",
       " Text(208.5639344262295, 75.2676923076923, 'X[2] <= 4.5\\nentropy = 1.0\\nsamples = 2\\nvalue = [1, 1, 0]'),\n",
       " Text(205.81967213114754, 58.541538461538465, 'entropy = 0.0\\nsamples = 1\\nvalue = [0, 1, 0]'),\n",
       " Text(211.30819672131148, 58.541538461538465, 'entropy = 0.0\\nsamples = 1\\nvalue = [1, 0, 0]'),\n",
       " Text(183.8655737704918, 142.1723076923077, 'entropy = 0.0\\nsamples = 48\\nvalue = [0, 48, 0]'),\n",
       " Text(266.0219262295082, 158.89846153846153, 'X[1] <= 3.5\\nentropy = 1.351\\nsamples = 120\\nvalue = [14, 38, 68]'),\n",
       " Text(238.4077868852459, 142.1723076923077, 'X[1] <= 1.5\\nentropy = 0.968\\nsamples = 73\\nvalue = [6, 10, 57]'),\n",
       " Text(235.66352459016395, 125.44615384615385, 'entropy = 0.0\\nsamples = 23\\nvalue = [0, 0, 23]'),\n",
       " Text(241.15204918032788, 125.44615384615385, 'X[2] <= 2.5\\nentropy = 1.21\\nsamples = 50\\nvalue = [6, 10, 34]'),\n",
       " Text(227.77377049180328, 108.72, 'X[3] <= 4.5\\nentropy = 1.309\\nsamples = 11\\nvalue = [2, 7, 2]'),\n",
       " Text(222.28524590163934, 91.99384615384615, 'X[1] <= 2.5\\nentropy = 0.811\\nsamples = 8\\nvalue = [2, 6, 0]'),\n",
       " Text(219.54098360655738, 75.2676923076923, 'X[0] <= 3.5\\nentropy = 1.0\\nsamples = 4\\nvalue = [2, 2, 0]'),\n",
       " Text(216.7967213114754, 58.541538461538465, 'entropy = 0.0\\nsamples = 1\\nvalue = [1, 0, 0]'),\n",
       " Text(222.28524590163934, 58.541538461538465, 'X[3] <= 3.5\\nentropy = 0.918\\nsamples = 3\\nvalue = [1, 2, 0]'),\n",
       " Text(219.54098360655738, 41.81538461538463, 'entropy = 0.0\\nsamples = 1\\nvalue = [0, 1, 0]'),\n",
       " Text(225.0295081967213, 41.81538461538463, 'X[0] <= 4.5\\nentropy = 1.0\\nsamples = 2\\nvalue = [1, 1, 0]'),\n",
       " Text(222.28524590163934, 25.089230769230767, 'entropy = 0.0\\nsamples = 1\\nvalue = [1, 0, 0]'),\n",
       " Text(227.77377049180328, 25.089230769230767, 'entropy = 0.0\\nsamples = 1\\nvalue = [0, 1, 0]'),\n",
       " Text(225.0295081967213, 75.2676923076923, 'entropy = 0.0\\nsamples = 4\\nvalue = [0, 4, 0]'),\n",
       " Text(233.2622950819672, 91.99384615384615, 'X[0] <= 3.5\\nentropy = 0.918\\nsamples = 3\\nvalue = [0, 1, 2]'),\n",
       " Text(230.51803278688524, 75.2676923076923, 'entropy = 0.0\\nsamples = 2\\nvalue = [0, 0, 2]'),\n",
       " Text(236.00655737704918, 75.2676923076923, 'entropy = 0.0\\nsamples = 1\\nvalue = [0, 1, 0]'),\n",
       " Text(254.53032786885245, 108.72, 'X[0] <= 4.5\\nentropy = 0.856\\nsamples = 39\\nvalue = [4, 3, 32]'),\n",
       " Text(244.23934426229508, 91.99384615384615, 'X[2] <= 3.5\\nentropy = 0.391\\nsamples = 26\\nvalue = [2, 0, 24]'),\n",
       " Text(241.4950819672131, 75.2676923076923, 'X[1] <= 2.5\\nentropy = 0.764\\nsamples = 9\\nvalue = [2, 0, 7]'),\n",
       " Text(238.75081967213114, 58.541538461538465, 'entropy = 0.0\\nsamples = 4\\nvalue = [0, 0, 4]'),\n",
       " Text(244.23934426229508, 58.541538461538465, 'X[3] <= 4.5\\nentropy = 0.971\\nsamples = 5\\nvalue = [2, 0, 3]'),\n",
       " Text(241.4950819672131, 41.81538461538463, 'X[3] <= 3.5\\nentropy = 0.918\\nsamples = 3\\nvalue = [2, 0, 1]'),\n",
       " Text(238.75081967213114, 25.089230769230767, 'entropy = 0.0\\nsamples = 1\\nvalue = [1, 0, 0]'),\n",
       " Text(244.23934426229508, 25.089230769230767, 'X[0] <= 3.5\\nentropy = 1.0\\nsamples = 2\\nvalue = [1, 0, 1]'),\n",
       " Text(241.4950819672131, 8.363076923076932, 'entropy = 0.0\\nsamples = 1\\nvalue = [0, 0, 1]'),\n",
       " Text(246.98360655737704, 8.363076923076932, 'entropy = 0.0\\nsamples = 1\\nvalue = [1, 0, 0]'),\n",
       " Text(246.98360655737704, 41.81538461538463, 'entropy = 0.0\\nsamples = 2\\nvalue = [0, 0, 2]'),\n",
       " Text(246.98360655737704, 75.2676923076923, 'entropy = 0.0\\nsamples = 17\\nvalue = [0, 0, 17]'),\n",
       " Text(264.82131147540986, 91.99384615384615, 'X[1] <= 2.5\\nentropy = 1.335\\nsamples = 13\\nvalue = [2, 3, 8]'),\n",
       " Text(257.96065573770494, 75.2676923076923, 'X[3] <= 3.5\\nentropy = 0.65\\nsamples = 6\\nvalue = [0, 1, 5]'),\n",
       " Text(255.21639344262294, 58.541538461538465, 'X[2] <= 3.5\\nentropy = 0.918\\nsamples = 3\\nvalue = [0, 1, 2]'),\n",
       " Text(252.47213114754098, 41.81538461538463, 'entropy = 0.0\\nsamples = 1\\nvalue = [0, 1, 0]'),\n",
       " Text(257.96065573770494, 41.81538461538463, 'entropy = 0.0\\nsamples = 2\\nvalue = [0, 0, 2]'),\n",
       " Text(260.7049180327869, 58.541538461538465, 'entropy = 0.0\\nsamples = 3\\nvalue = [0, 0, 3]'),\n",
       " Text(271.6819672131148, 75.2676923076923, 'X[2] <= 4.5\\nentropy = 1.557\\nsamples = 7\\nvalue = [2, 2, 3]'),\n",
       " Text(266.19344262295084, 58.541538461538465, 'X[3] <= 4.5\\nentropy = 1.5\\nsamples = 4\\nvalue = [1, 2, 1]'),\n",
       " Text(263.4491803278689, 41.81538461538463, 'X[3] <= 3.5\\nentropy = 0.918\\nsamples = 3\\nvalue = [0, 2, 1]'),\n",
       " Text(260.7049180327869, 25.089230769230767, 'entropy = 0.0\\nsamples = 1\\nvalue = [0, 1, 0]'),\n",
       " Text(266.19344262295084, 25.089230769230767, 'X[2] <= 3.5\\nentropy = 1.0\\nsamples = 2\\nvalue = [0, 1, 1]'),\n",
       " Text(263.4491803278689, 8.363076923076932, 'entropy = 0.0\\nsamples = 1\\nvalue = [0, 1, 0]'),\n",
       " Text(268.9377049180328, 8.363076923076932, 'entropy = 0.0\\nsamples = 1\\nvalue = [0, 0, 1]'),\n",
       " Text(268.9377049180328, 41.81538461538463, 'entropy = 0.0\\nsamples = 1\\nvalue = [1, 0, 0]'),\n",
       " Text(277.1704918032787, 58.541538461538465, 'X[3] <= 3.5\\nentropy = 0.918\\nsamples = 3\\nvalue = [1, 0, 2]'),\n",
       " Text(274.42622950819674, 41.81538461538463, 'entropy = 0.0\\nsamples = 1\\nvalue = [1, 0, 0]'),\n",
       " Text(279.9147540983607, 41.81538461538463, 'entropy = 0.0\\nsamples = 2\\nvalue = [0, 0, 2]'),\n",
       " Text(293.6360655737705, 142.1723076923077, 'X[2] <= 3.5\\nentropy = 1.37\\nsamples = 47\\nvalue = [8, 28, 11]'),\n",
       " Text(279.9147540983607, 125.44615384615385, 'X[0] <= 3.5\\nentropy = 0.286\\nsamples = 20\\nvalue = [1, 19, 0]'),\n",
       " Text(277.1704918032787, 108.72, 'X[3] <= 4.5\\nentropy = 0.592\\nsamples = 7\\nvalue = [1, 6, 0]'),\n",
       " Text(274.42622950819674, 91.99384615384615, 'entropy = 0.0\\nsamples = 5\\nvalue = [0, 5, 0]'),\n",
       " Text(279.9147540983607, 91.99384615384615, 'X[2] <= 2.5\\nentropy = 1.0\\nsamples = 2\\nvalue = [1, 1, 0]'),\n",
       " Text(277.1704918032787, 75.2676923076923, 'entropy = 0.0\\nsamples = 1\\nvalue = [0, 1, 0]'),\n",
       " Text(282.65901639344264, 75.2676923076923, 'entropy = 0.0\\nsamples = 1\\nvalue = [1, 0, 0]'),\n",
       " Text(282.65901639344264, 108.72, 'entropy = 0.0\\nsamples = 13\\nvalue = [0, 13, 0]'),\n",
       " Text(307.35737704918034, 125.44615384615385, 'X[3] <= 4.5\\nentropy = 1.561\\nsamples = 27\\nvalue = [7, 9, 11]'),\n",
       " Text(296.3803278688525, 108.72, 'X[0] <= 3.5\\nentropy = 1.468\\nsamples = 17\\nvalue = [4, 9, 4]'),\n",
       " Text(290.89180327868854, 91.99384615384615, 'X[3] <= 3.5\\nentropy = 1.252\\nsamples = 6\\nvalue = [1, 1, 4]'),\n",
       " Text(288.1475409836066, 75.2676923076923, 'X[2] <= 4.5\\nentropy = 1.585\\nsamples = 3\\nvalue = [1, 1, 1]'),\n",
       " Text(285.4032786885246, 58.541538461538465, 'entropy = 0.0\\nsamples = 1\\nvalue = [0, 1, 0]'),\n",
       " Text(290.89180327868854, 58.541538461538465, 'X[1] <= 4.5\\nentropy = 1.0\\nsamples = 2\\nvalue = [1, 0, 1]'),\n",
       " Text(288.1475409836066, 41.81538461538463, 'entropy = 0.0\\nsamples = 1\\nvalue = [0, 0, 1]'),\n",
       " Text(293.6360655737705, 41.81538461538463, 'entropy = 0.0\\nsamples = 1\\nvalue = [1, 0, 0]'),\n",
       " Text(293.6360655737705, 75.2676923076923, 'entropy = 0.0\\nsamples = 3\\nvalue = [0, 0, 3]'),\n",
       " Text(301.8688524590164, 91.99384615384615, 'X[3] <= 3.5\\nentropy = 0.845\\nsamples = 11\\nvalue = [3, 8, 0]'),\n",
       " Text(299.12459016393444, 75.2676923076923, 'entropy = 0.0\\nsamples = 5\\nvalue = [0, 5, 0]'),\n",
       " Text(304.6131147540984, 75.2676923076923, 'X[2] <= 4.5\\nentropy = 1.0\\nsamples = 6\\nvalue = [3, 3, 0]'),\n",
       " Text(301.8688524590164, 58.541538461538465, 'X[1] <= 4.5\\nentropy = 0.811\\nsamples = 4\\nvalue = [1, 3, 0]'),\n",
       " Text(299.12459016393444, 41.81538461538463, 'X[0] <= 4.5\\nentropy = 1.0\\nsamples = 2\\nvalue = [1, 1, 0]'),\n",
       " Text(296.3803278688525, 25.089230769230767, 'entropy = 0.0\\nsamples = 1\\nvalue = [1, 0, 0]'),\n",
       " Text(301.8688524590164, 25.089230769230767, 'entropy = 0.0\\nsamples = 1\\nvalue = [0, 1, 0]'),\n",
       " Text(304.6131147540984, 41.81538461538463, 'entropy = 0.0\\nsamples = 2\\nvalue = [0, 2, 0]'),\n",
       " Text(307.35737704918034, 58.541538461538465, 'entropy = 0.0\\nsamples = 2\\nvalue = [2, 0, 0]'),\n",
       " Text(318.3344262295082, 108.72, 'X[0] <= 3.5\\nentropy = 0.881\\nsamples = 10\\nvalue = [3, 0, 7]'),\n",
       " Text(315.59016393442624, 91.99384615384615, 'entropy = 0.0\\nsamples = 3\\nvalue = [0, 0, 3]'),\n",
       " Text(321.0786885245902, 91.99384615384615, 'X[2] <= 4.5\\nentropy = 0.985\\nsamples = 7\\nvalue = [3, 0, 4]'),\n",
       " Text(315.59016393442624, 75.2676923076923, 'X[0] <= 4.5\\nentropy = 0.918\\nsamples = 3\\nvalue = [2, 0, 1]'),\n",
       " Text(312.8459016393443, 58.541538461538465, 'X[1] <= 4.5\\nentropy = 1.0\\nsamples = 2\\nvalue = [1, 0, 1]'),\n",
       " Text(310.1016393442623, 41.81538461538463, 'entropy = 0.0\\nsamples = 1\\nvalue = [0, 0, 1]'),\n",
       " Text(315.59016393442624, 41.81538461538463, 'entropy = 0.0\\nsamples = 1\\nvalue = [1, 0, 0]'),\n",
       " Text(318.3344262295082, 58.541538461538465, 'entropy = 0.0\\nsamples = 1\\nvalue = [1, 0, 0]'),\n",
       " Text(326.5672131147541, 75.2676923076923, 'X[1] <= 4.5\\nentropy = 0.811\\nsamples = 4\\nvalue = [1, 0, 3]'),\n",
       " Text(323.82295081967214, 58.541538461538465, 'entropy = 0.0\\nsamples = 2\\nvalue = [0, 0, 2]'),\n",
       " Text(329.3114754098361, 58.541538461538465, 'X[0] <= 4.5\\nentropy = 1.0\\nsamples = 2\\nvalue = [1, 0, 1]'),\n",
       " Text(326.5672131147541, 41.81538461538463, 'entropy = 0.0\\nsamples = 1\\nvalue = [0, 0, 1]'),\n",
       " Text(332.05573770491804, 41.81538461538463, 'entropy = 0.0\\nsamples = 1\\nvalue = [1, 0, 0]')]"
      ]
     },
     "execution_count": 18,
     "metadata": {},
     "output_type": "execute_result"
    },
    {
     "data": {
      "image/png": "[encoded data removed]",
      "text/plain": [
       "<Figure size 432x288 with 1 Axes>"
      ]
     },
     "metadata": {
      "needs_background": "light"
     },
     "output_type": "display_data"
    }
   ],
   "source": [
    "tree.plot_tree(clf_gini.fit(x_train,y_train))"
   ]
  },
  {
   "cell_type": "code",
   "execution_count": 19,
   "metadata": {},
   "outputs": [],
   "source": [
    "clf =clf_entropy.fit(x_train,y_train)"
   ]
  },
  {
   "cell_type": "code",
   "execution_count": 20,
   "metadata": {},
   "outputs": [
    {
     "data": {
      "text/plain": [
       "'digraph Tree {\\nnode [shape=box] ;\\n0 [label=\"X[2] <= 1.5\\\\nentropy = 1.317\\\\nsamples = 436\\\\nvalue = [34, 197, 205]\"] ;\\n1 [label=\"X[0] <= 1.5\\\\nentropy = 0.725\\\\nsamples = 87\\\\nvalue = [3, 74, 10]\"] ;\\n0 -> 1 [labeldistance=2.5, labelangle=45, headlabel=\"True\"] ;\\n2 [label=\"X[1] <= 3.5\\\\nentropy = 1.382\\\\nsamples = 18\\\\nvalue = [2, 9, 7]\"] ;\\n1 -> 2 ;\\n3 [label=\"X[3] <= 2.5\\\\nentropy = 1.241\\\\nsamples = 11\\\\nvalue = [1, 3, 7]\"] ;\\n2 -> 3 ;\\n4 [label=\"X[1] <= 1.5\\\\nentropy = 0.811\\\\nsamples = 4\\\\nvalue = [0, 3, 1]\"] ;\\n3 -> 4 ;\\n5 [label=\"entropy = 0.0\\\\nsamples = 1\\\\nvalue = [0, 0, 1]\"] ;\\n4 -> 5 ;\\n6 [label=\"entropy = 0.0\\\\nsamples = 3\\\\nvalue = [0, 3, 0]\"] ;\\n4 -> 6 ;\\n7 [label=\"X[1] <= 2.5\\\\nentropy = 0.592\\\\nsamples = 7\\\\nvalue = [1, 0, 6]\"] ;\\n3 -> 7 ;\\n8 [label=\"entropy = 0.0\\\\nsamples = 4\\\\nvalue = [0, 0, 4]\"] ;\\n7 -> 8 ;\\n9 [label=\"X[3] <= 3.5\\\\nentropy = 0.918\\\\nsamples = 3\\\\nvalue = [1, 0, 2]\"] ;\\n7 -> 9 ;\\n10 [label=\"entropy = 0.0\\\\nsamples = 1\\\\nvalue = [1, 0, 0]\"] ;\\n9 -> 10 ;\\n11 [label=\"entropy = 0.0\\\\nsamples = 2\\\\nvalue = [0, 0, 2]\"] ;\\n9 -> 11 ;\\n12 [label=\"X[3] <= 3.5\\\\nentropy = 0.592\\\\nsamples = 7\\\\nvalue = [1, 6, 0]\"] ;\\n2 -> 12 ;\\n13 [label=\"entropy = 0.0\\\\nsamples = 5\\\\nvalue = [0, 5, 0]\"] ;\\n12 -> 13 ;\\n14 [label=\"X[1] <= 4.5\\\\nentropy = 1.0\\\\nsamples = 2\\\\nvalue = [1, 1, 0]\"] ;\\n12 -> 14 ;\\n15 [label=\"entropy = 0.0\\\\nsamples = 1\\\\nvalue = [1, 0, 0]\"] ;\\n14 -> 15 ;\\n16 [label=\"entropy = 0.0\\\\nsamples = 1\\\\nvalue = [0, 1, 0]\"] ;\\n14 -> 16 ;\\n17 [label=\"X[1] <= 1.5\\\\nentropy = 0.366\\\\nsamples = 69\\\\nvalue = [1, 65, 3]\"] ;\\n1 -> 17 ;\\n18 [label=\"X[3] <= 2.5\\\\nentropy = 1.241\\\\nsamples = 11\\\\nvalue = [1, 7, 3]\"] ;\\n17 -> 18 ;\\n19 [label=\"entropy = 0.0\\\\nsamples = 5\\\\nvalue = [0, 5, 0]\"] ;\\n18 -> 19 ;\\n20 [label=\"X[0] <= 4.5\\\\nentropy = 1.459\\\\nsamples = 6\\\\nvalue = [1, 2, 3]\"] ;\\n18 -> 20 ;\\n21 [label=\"X[0] <= 2.5\\\\nentropy = 0.811\\\\nsamples = 4\\\\nvalue = [1, 0, 3]\"] ;\\n20 -> 21 ;\\n22 [label=\"entropy = 0.0\\\\nsamples = 2\\\\nvalue = [0, 0, 2]\"] ;\\n21 -> 22 ;\\n23 [label=\"X[3] <= 4.0\\\\nentropy = 1.0\\\\nsamples = 2\\\\nvalue = [1, 0, 1]\"] ;\\n21 -> 23 ;\\n24 [label=\"entropy = 0.0\\\\nsamples = 1\\\\nvalue = [1, 0, 0]\"] ;\\n23 -> 24 ;\\n25 [label=\"entropy = 0.0\\\\nsamples = 1\\\\nvalue = [0, 0, 1]\"] ;\\n23 -> 25 ;\\n26 [label=\"entropy = 0.0\\\\nsamples = 2\\\\nvalue = [0, 2, 0]\"] ;\\n20 -> 26 ;\\n27 [label=\"entropy = 0.0\\\\nsamples = 58\\\\nvalue = [0, 58, 0]\"] ;\\n17 -> 27 ;\\n28 [label=\"X[0] <= 2.5\\\\nentropy = 1.31\\\\nsamples = 349\\\\nvalue = [31, 123, 195]\"] ;\\n0 -> 28 [labeldistance=2.5, labelangle=-45, headlabel=\"False\"] ;\\n29 [label=\"X[3] <= 2.5\\\\nentropy = 0.913\\\\nsamples = 145\\\\nvalue = [11, 18, 116]\"] ;\\n28 -> 29 ;\\n30 [label=\"X[1] <= 2.5\\\\nentropy = 1.405\\\\nsamples = 55\\\\nvalue = [9, 15, 31]\"] ;\\n29 -> 30 ;\\n31 [label=\"X[3] <= 1.5\\\\nentropy = 0.485\\\\nsamples = 19\\\\nvalue = [2, 0, 17]\"] ;\\n30 -> 31 ;\\n32 [label=\"X[0] <= 1.5\\\\nentropy = 0.764\\\\nsamples = 9\\\\nvalue = [2, 0, 7]\"] ;\\n31 -> 32 ;\\n33 [label=\"entropy = 0.0\\\\nsamples = 4\\\\nvalue = [0, 0, 4]\"] ;\\n32 -> 33 ;\\n34 [label=\"X[2] <= 2.5\\\\nentropy = 0.971\\\\nsamples = 5\\\\nvalue = [2, 0, 3]\"] ;\\n32 -> 34 ;\\n35 [label=\"entropy = 0.0\\\\nsamples = 1\\\\nvalue = [1, 0, 0]\"] ;\\n34 -> 35 ;\\n36 [label=\"X[1] <= 1.5\\\\nentropy = 0.811\\\\nsamples = 4\\\\nvalue = [1, 0, 3]\"] ;\\n34 -> 36 ;\\n37 [label=\"entropy = 0.0\\\\nsamples = 3\\\\nvalue = [0, 0, 3]\"] ;\\n36 -> 37 ;\\n38 [label=\"entropy = 0.0\\\\nsamples = 1\\\\nvalue = [1, 0, 0]\"] ;\\n36 -> 38 ;\\n39 [label=\"entropy = 0.0\\\\nsamples = 10\\\\nvalue = [0, 0, 10]\"] ;\\n31 -> 39 ;\\n40 [label=\"X[0] <= 1.5\\\\nentropy = 1.516\\\\nsamples = 36\\\\nvalue = [7, 15, 14]\"] ;\\n30 -> 40 ;\\n41 [label=\"X[3] <= 1.5\\\\nentropy = 1.224\\\\nsamples = 18\\\\nvalue = [4, 2, 12]\"] ;\\n40 -> 41 ;\\n42 [label=\"X[2] <= 2.5\\\\nentropy = 1.557\\\\nsamples = 7\\\\nvalue = [3, 2, 2]\"] ;\\n41 -> 42 ;\\n43 [label=\"entropy = 0.0\\\\nsamples = 2\\\\nvalue = [0, 2, 0]\"] ;\\n42 -> 43 ;\\n44 [label=\"X[1] <= 4.5\\\\nentropy = 0.971\\\\nsamples = 5\\\\nvalue = [3, 0, 2]\"] ;\\n42 -> 44 ;\\n45 [label=\"X[2] <= 3.5\\\\nentropy = 1.0\\\\nsamples = 4\\\\nvalue = [2, 0, 2]\"] ;\\n44 -> 45 ;\\n46 [label=\"entropy = 0.0\\\\nsamples = 1\\\\nvalue = [1, 0, 0]\"] ;\\n45 -> 46 ;\\n47 [label=\"X[2] <= 4.5\\\\nentropy = 0.918\\\\nsamples = 3\\\\nvalue = [1, 0, 2]\"] ;\\n45 -> 47 ;\\n48 [label=\"X[1] <= 3.5\\\\nentropy = 1.0\\\\nsamples = 2\\\\nvalue = [1, 0, 1]\"] ;\\n47 -> 48 ;\\n49 [label=\"entropy = 0.0\\\\nsamples = 1\\\\nvalue = [0, 0, 1]\"] ;\\n48 -> 49 ;\\n50 [label=\"entropy = 0.0\\\\nsamples = 1\\\\nvalue = [1, 0, 0]\"] ;\\n48 -> 50 ;\\n51 [label=\"entropy = 0.0\\\\nsamples = 1\\\\nvalue = [0, 0, 1]\"] ;\\n47 -> 51 ;\\n52 [label=\"entropy = 0.0\\\\nsamples = 1\\\\nvalue = [1, 0, 0]\"] ;\\n44 -> 52 ;\\n53 [label=\"X[2] <= 2.5\\\\nentropy = 0.439\\\\nsamples = 11\\\\nvalue = [1, 0, 10]\"] ;\\n41 -> 53 ;\\n54 [label=\"X[1] <= 3.5\\\\nentropy = 1.0\\\\nsamples = 2\\\\nvalue = [1, 0, 1]\"] ;\\n53 -> 54 ;\\n55 [label=\"entropy = 0.0\\\\nsamples = 1\\\\nvalue = [0, 0, 1]\"] ;\\n54 -> 55 ;\\n56 [label=\"entropy = 0.0\\\\nsamples = 1\\\\nvalue = [1, 0, 0]\"] ;\\n54 -> 56 ;\\n57 [label=\"entropy = 0.0\\\\nsamples = 9\\\\nvalue = [0, 0, 9]\"] ;\\n53 -> 57 ;\\n58 [label=\"X[3] <= 1.5\\\\nentropy = 1.122\\\\nsamples = 18\\\\nvalue = [3, 13, 2]\"] ;\\n40 -> 58 ;\\n59 [label=\"entropy = 0.0\\\\nsamples = 9\\\\nvalue = [0, 9, 0]\"] ;\\n58 -> 59 ;\\n60 [label=\"X[2] <= 3.5\\\\nentropy = 1.53\\\\nsamples = 9\\\\nvalue = [3, 4, 2]\"] ;\\n58 -> 60 ;\\n61 [label=\"X[2] <= 2.5\\\\nentropy = 0.811\\\\nsamples = 4\\\\nvalue = [1, 3, 0]\"] ;\\n60 -> 61 ;\\n62 [label=\"entropy = 0.0\\\\nsamples = 2\\\\nvalue = [0, 2, 0]\"] ;\\n61 -> 62 ;\\n63 [label=\"X[1] <= 3.5\\\\nentropy = 1.0\\\\nsamples = 2\\\\nvalue = [1, 1, 0]\"] ;\\n61 -> 63 ;\\n64 [label=\"entropy = 0.0\\\\nsamples = 1\\\\nvalue = [1, 0, 0]\"] ;\\n63 -> 64 ;\\n65 [label=\"entropy = 0.0\\\\nsamples = 1\\\\nvalue = [0, 1, 0]\"] ;\\n63 -> 65 ;\\n66 [label=\"X[1] <= 4.5\\\\nentropy = 1.522\\\\nsamples = 5\\\\nvalue = [2, 1, 2]\"] ;\\n60 -> 66 ;\\n67 [label=\"X[2] <= 4.5\\\\nentropy = 0.918\\\\nsamples = 3\\\\nvalue = [1, 0, 2]\"] ;\\n66 -> 67 ;\\n68 [label=\"X[1] <= 3.5\\\\nentropy = 1.0\\\\nsamples = 2\\\\nvalue = [1, 0, 1]\"] ;\\n67 -> 68 ;\\n69 [label=\"entropy = 0.0\\\\nsamples = 1\\\\nvalue = [0, 0, 1]\"] ;\\n68 -> 69 ;\\n70 [label=\"entropy = 0.0\\\\nsamples = 1\\\\nvalue = [1, 0, 0]\"] ;\\n68 -> 70 ;\\n71 [label=\"entropy = 0.0\\\\nsamples = 1\\\\nvalue = [0, 0, 1]\"] ;\\n67 -> 71 ;\\n72 [label=\"X[2] <= 4.5\\\\nentropy = 1.0\\\\nsamples = 2\\\\nvalue = [1, 1, 0]\"] ;\\n66 -> 72 ;\\n73 [label=\"entropy = 0.0\\\\nsamples = 1\\\\nvalue = [0, 1, 0]\"] ;\\n72 -> 73 ;\\n74 [label=\"entropy = 0.0\\\\nsamples = 1\\\\nvalue = [1, 0, 0]\"] ;\\n72 -> 74 ;\\n75 [label=\"X[1] <= 4.5\\\\nentropy = 0.363\\\\nsamples = 90\\\\nvalue = [2, 3, 85]\"] ;\\n29 -> 75 ;\\n76 [label=\"X[2] <= 2.5\\\\nentropy = 0.108\\\\nsamples = 70\\\\nvalue = [1, 0, 69]\"] ;\\n75 -> 76 ;\\n77 [label=\"X[3] <= 3.5\\\\nentropy = 0.337\\\\nsamples = 16\\\\nvalue = [1, 0, 15]\"] ;\\n76 -> 77 ;\\n78 [label=\"X[1] <= 2.5\\\\nentropy = 0.811\\\\nsamples = 4\\\\nvalue = [1, 0, 3]\"] ;\\n77 -> 78 ;\\n79 [label=\"entropy = 0.0\\\\nsamples = 2\\\\nvalue = [0, 0, 2]\"] ;\\n78 -> 79 ;\\n80 [label=\"X[0] <= 1.5\\\\nentropy = 1.0\\\\nsamples = 2\\\\nvalue = [1, 0, 1]\"] ;\\n78 -> 80 ;\\n81 [label=\"entropy = 0.0\\\\nsamples = 1\\\\nvalue = [0, 0, 1]\"] ;\\n80 -> 81 ;\\n82 [label=\"entropy = 0.0\\\\nsamples = 1\\\\nvalue = [1, 0, 0]\"] ;\\n80 -> 82 ;\\n83 [label=\"entropy = 0.0\\\\nsamples = 12\\\\nvalue = [0, 0, 12]\"] ;\\n77 -> 83 ;\\n84 [label=\"entropy = 0.0\\\\nsamples = 54\\\\nvalue = [0, 0, 54]\"] ;\\n76 -> 84 ;\\n85 [label=\"X[2] <= 2.5\\\\nentropy = 0.884\\\\nsamples = 20\\\\nvalue = [1, 3, 16]\"] ;\\n75 -> 85 ;\\n86 [label=\"X[0] <= 1.5\\\\nentropy = 1.5\\\\nsamples = 4\\\\nvalue = [1, 2, 1]\"] ;\\n85 -> 86 ;\\n87 [label=\"entropy = 0.0\\\\nsamples = 1\\\\nvalue = [0, 0, 1]\"] ;\\n86 -> 87 ;\\n88 [label=\"X[3] <= 4.5\\\\nentropy = 0.918\\\\nsamples = 3\\\\nvalue = [1, 2, 0]\"] ;\\n86 -> 88 ;\\n89 [label=\"entropy = 0.0\\\\nsamples = 2\\\\nvalue = [0, 2, 0]\"] ;\\n88 -> 89 ;\\n90 [label=\"entropy = 0.0\\\\nsamples = 1\\\\nvalue = [1, 0, 0]\"] ;\\n88 -> 90 ;\\n91 [label=\"X[3] <= 3.5\\\\nentropy = 0.337\\\\nsamples = 16\\\\nvalue = [0, 1, 15]\"] ;\\n85 -> 91 ;\\n92 [label=\"X[2] <= 3.5\\\\nentropy = 0.65\\\\nsamples = 6\\\\nvalue = [0, 1, 5]\"] ;\\n91 -> 92 ;\\n93 [label=\"X[0] <= 1.5\\\\nentropy = 1.0\\\\nsamples = 2\\\\nvalue = [0, 1, 1]\"] ;\\n92 -> 93 ;\\n94 [label=\"entropy = 0.0\\\\nsamples = 1\\\\nvalue = [0, 0, 1]\"] ;\\n93 -> 94 ;\\n95 [label=\"entropy = 0.0\\\\nsamples = 1\\\\nvalue = [0, 1, 0]\"] ;\\n93 -> 95 ;\\n96 [label=\"entropy = 0.0\\\\nsamples = 4\\\\nvalue = [0, 0, 4]\"] ;\\n92 -> 96 ;\\n97 [label=\"entropy = 0.0\\\\nsamples = 10\\\\nvalue = [0, 0, 10]\"] ;\\n91 -> 97 ;\\n98 [label=\"X[3] <= 2.5\\\\nentropy = 1.352\\\\nsamples = 204\\\\nvalue = [20, 105, 79]\"] ;\\n28 -> 98 ;\\n99 [label=\"X[1] <= 2.5\\\\nentropy = 0.916\\\\nsamples = 84\\\\nvalue = [6, 67, 11]\"] ;\\n98 -> 99 ;\\n100 [label=\"X[1] <= 1.5\\\\nentropy = 1.44\\\\nsamples = 36\\\\nvalue = [6, 19, 11]\"] ;\\n99 -> 100 ;\\n101 [label=\"X[0] <= 4.5\\\\nentropy = 1.457\\\\nsamples = 15\\\\nvalue = [3, 4, 8]\"] ;\\n100 -> 101 ;\\n102 [label=\"X[0] <= 3.5\\\\nentropy = 0.863\\\\nsamples = 7\\\\nvalue = [2, 0, 5]\"] ;\\n101 -> 102 ;\\n103 [label=\"entropy = 0.0\\\\nsamples = 3\\\\nvalue = [0, 0, 3]\"] ;\\n102 -> 103 ;\\n104 [label=\"X[2] <= 2.5\\\\nentropy = 1.0\\\\nsamples = 4\\\\nvalue = [2, 0, 2]\"] ;\\n102 -> 104 ;\\n105 [label=\"entropy = 0.0\\\\nsamples = 1\\\\nvalue = [1, 0, 0]\"] ;\\n104 -> 105 ;\\n106 [label=\"X[3] <= 1.5\\\\nentropy = 0.918\\\\nsamples = 3\\\\nvalue = [1, 0, 2]\"] ;\\n104 -> 106 ;\\n107 [label=\"X[2] <= 4.5\\\\nentropy = 1.0\\\\nsamples = 2\\\\nvalue = [1, 0, 1]\"] ;\\n106 -> 107 ;\\n108 [label=\"entropy = 0.0\\\\nsamples = 1\\\\nvalue = [1, 0, 0]\"] ;\\n107 -> 108 ;\\n109 [label=\"entropy = 0.0\\\\nsamples = 1\\\\nvalue = [0, 0, 1]\"] ;\\n107 -> 109 ;\\n110 [label=\"entropy = 0.0\\\\nsamples = 1\\\\nvalue = [0, 0, 1]\"] ;\\n106 -> 110 ;\\n111 [label=\"X[3] <= 1.5\\\\nentropy = 1.406\\\\nsamples = 8\\\\nvalue = [1, 4, 3]\"] ;\\n101 -> 111 ;\\n112 [label=\"X[2] <= 4.5\\\\nentropy = 0.811\\\\nsamples = 4\\\\nvalue = [1, 3, 0]\"] ;\\n111 -> 112 ;\\n113 [label=\"entropy = 0.0\\\\nsamples = 3\\\\nvalue = [0, 3, 0]\"] ;\\n112 -> 113 ;\\n114 [label=\"entropy = 0.0\\\\nsamples = 1\\\\nvalue = [1, 0, 0]\"] ;\\n112 -> 114 ;\\n115 [label=\"X[2] <= 2.5\\\\nentropy = 0.811\\\\nsamples = 4\\\\nvalue = [0, 1, 3]\"] ;\\n111 -> 115 ;\\n116 [label=\"entropy = 0.0\\\\nsamples = 1\\\\nvalue = [0, 1, 0]\"] ;\\n115 -> 116 ;\\n117 [label=\"entropy = 0.0\\\\nsamples = 3\\\\nvalue = [0, 0, 3]\"] ;\\n115 -> 117 ;\\n118 [label=\"X[3] <= 1.5\\\\nentropy = 1.149\\\\nsamples = 21\\\\nvalue = [3, 15, 3]\"] ;\\n100 -> 118 ;\\n119 [label=\"entropy = 0.0\\\\nsamples = 10\\\\nvalue = [0, 10, 0]\"] ;\\n118 -> 119 ;\\n120 [label=\"X[2] <= 3.5\\\\nentropy = 1.539\\\\nsamples = 11\\\\nvalue = [3, 5, 3]\"] ;\\n118 -> 120 ;\\n121 [label=\"X[0] <= 3.5\\\\nentropy = 0.722\\\\nsamples = 5\\\\nvalue = [1, 4, 0]\"] ;\\n120 -> 121 ;\\n122 [label=\"X[2] <= 2.5\\\\nentropy = 1.0\\\\nsamples = 2\\\\nvalue = [1, 1, 0]\"] ;\\n121 -> 122 ;\\n123 [label=\"entropy = 0.0\\\\nsamples = 1\\\\nvalue = [0, 1, 0]\"] ;\\n122 -> 123 ;\\n124 [label=\"entropy = 0.0\\\\nsamples = 1\\\\nvalue = [1, 0, 0]\"] ;\\n122 -> 124 ;\\n125 [label=\"entropy = 0.0\\\\nsamples = 3\\\\nvalue = [0, 3, 0]\"] ;\\n121 -> 125 ;\\n126 [label=\"X[0] <= 4.5\\\\nentropy = 1.459\\\\nsamples = 6\\\\nvalue = [2, 1, 3]\"] ;\\n120 -> 126 ;\\n127 [label=\"X[2] <= 4.5\\\\nentropy = 0.811\\\\nsamples = 4\\\\nvalue = [1, 0, 3]\"] ;\\n126 -> 127 ;\\n128 [label=\"X[0] <= 3.5\\\\nentropy = 1.0\\\\nsamples = 2\\\\nvalue = [1, 0, 1]\"] ;\\n127 -> 128 ;\\n129 [label=\"entropy = 0.0\\\\nsamples = 1\\\\nvalue = [0, 0, 1]\"] ;\\n128 -> 129 ;\\n130 [label=\"entropy = 0.0\\\\nsamples = 1\\\\nvalue = [1, 0, 0]\"] ;\\n128 -> 130 ;\\n131 [label=\"entropy = 0.0\\\\nsamples = 2\\\\nvalue = [0, 0, 2]\"] ;\\n127 -> 131 ;\\n132 [label=\"X[2] <= 4.5\\\\nentropy = 1.0\\\\nsamples = 2\\\\nvalue = [1, 1, 0]\"] ;\\n126 -> 132 ;\\n133 [label=\"entropy = 0.0\\\\nsamples = 1\\\\nvalue = [0, 1, 0]\"] ;\\n132 -> 133 ;\\n134 [label=\"entropy = 0.0\\\\nsamples = 1\\\\nvalue = [1, 0, 0]\"] ;\\n132 -> 134 ;\\n135 [label=\"entropy = 0.0\\\\nsamples = 48\\\\nvalue = [0, 48, 0]\"] ;\\n99 -> 135 ;\\n136 [label=\"X[1] <= 3.5\\\\nentropy = 1.351\\\\nsamples = 120\\\\nvalue = [14, 38, 68]\"] ;\\n98 -> 136 ;\\n137 [label=\"X[1] <= 1.5\\\\nentropy = 0.968\\\\nsamples = 73\\\\nvalue = [6, 10, 57]\"] ;\\n136 -> 137 ;\\n138 [label=\"entropy = 0.0\\\\nsamples = 23\\\\nvalue = [0, 0, 23]\"] ;\\n137 -> 138 ;\\n139 [label=\"X[2] <= 2.5\\\\nentropy = 1.21\\\\nsamples = 50\\\\nvalue = [6, 10, 34]\"] ;\\n137 -> 139 ;\\n140 [label=\"X[3] <= 4.5\\\\nentropy = 1.309\\\\nsamples = 11\\\\nvalue = [2, 7, 2]\"] ;\\n139 -> 140 ;\\n141 [label=\"X[1] <= 2.5\\\\nentropy = 0.811\\\\nsamples = 8\\\\nvalue = [2, 6, 0]\"] ;\\n140 -> 141 ;\\n142 [label=\"X[0] <= 3.5\\\\nentropy = 1.0\\\\nsamples = 4\\\\nvalue = [2, 2, 0]\"] ;\\n141 -> 142 ;\\n143 [label=\"entropy = 0.0\\\\nsamples = 1\\\\nvalue = [1, 0, 0]\"] ;\\n142 -> 143 ;\\n144 [label=\"X[3] <= 3.5\\\\nentropy = 0.918\\\\nsamples = 3\\\\nvalue = [1, 2, 0]\"] ;\\n142 -> 144 ;\\n145 [label=\"entropy = 0.0\\\\nsamples = 1\\\\nvalue = [0, 1, 0]\"] ;\\n144 -> 145 ;\\n146 [label=\"X[0] <= 4.5\\\\nentropy = 1.0\\\\nsamples = 2\\\\nvalue = [1, 1, 0]\"] ;\\n144 -> 146 ;\\n147 [label=\"entropy = 0.0\\\\nsamples = 1\\\\nvalue = [1, 0, 0]\"] ;\\n146 -> 147 ;\\n148 [label=\"entropy = 0.0\\\\nsamples = 1\\\\nvalue = [0, 1, 0]\"] ;\\n146 -> 148 ;\\n149 [label=\"entropy = 0.0\\\\nsamples = 4\\\\nvalue = [0, 4, 0]\"] ;\\n141 -> 149 ;\\n150 [label=\"X[0] <= 3.5\\\\nentropy = 0.918\\\\nsamples = 3\\\\nvalue = [0, 1, 2]\"] ;\\n140 -> 150 ;\\n151 [label=\"entropy = 0.0\\\\nsamples = 2\\\\nvalue = [0, 0, 2]\"] ;\\n150 -> 151 ;\\n152 [label=\"entropy = 0.0\\\\nsamples = 1\\\\nvalue = [0, 1, 0]\"] ;\\n150 -> 152 ;\\n153 [label=\"X[0] <= 4.5\\\\nentropy = 0.856\\\\nsamples = 39\\\\nvalue = [4, 3, 32]\"] ;\\n139 -> 153 ;\\n154 [label=\"X[2] <= 3.5\\\\nentropy = 0.391\\\\nsamples = 26\\\\nvalue = [2, 0, 24]\"] ;\\n153 -> 154 ;\\n155 [label=\"X[1] <= 2.5\\\\nentropy = 0.764\\\\nsamples = 9\\\\nvalue = [2, 0, 7]\"] ;\\n154 -> 155 ;\\n156 [label=\"entropy = 0.0\\\\nsamples = 4\\\\nvalue = [0, 0, 4]\"] ;\\n155 -> 156 ;\\n157 [label=\"X[3] <= 4.5\\\\nentropy = 0.971\\\\nsamples = 5\\\\nvalue = [2, 0, 3]\"] ;\\n155 -> 157 ;\\n158 [label=\"X[3] <= 3.5\\\\nentropy = 0.918\\\\nsamples = 3\\\\nvalue = [2, 0, 1]\"] ;\\n157 -> 158 ;\\n159 [label=\"entropy = 0.0\\\\nsamples = 1\\\\nvalue = [1, 0, 0]\"] ;\\n158 -> 159 ;\\n160 [label=\"X[0] <= 3.5\\\\nentropy = 1.0\\\\nsamples = 2\\\\nvalue = [1, 0, 1]\"] ;\\n158 -> 160 ;\\n161 [label=\"entropy = 0.0\\\\nsamples = 1\\\\nvalue = [0, 0, 1]\"] ;\\n160 -> 161 ;\\n162 [label=\"entropy = 0.0\\\\nsamples = 1\\\\nvalue = [1, 0, 0]\"] ;\\n160 -> 162 ;\\n163 [label=\"entropy = 0.0\\\\nsamples = 2\\\\nvalue = [0, 0, 2]\"] ;\\n157 -> 163 ;\\n164 [label=\"entropy = 0.0\\\\nsamples = 17\\\\nvalue = [0, 0, 17]\"] ;\\n154 -> 164 ;\\n165 [label=\"X[1] <= 2.5\\\\nentropy = 1.335\\\\nsamples = 13\\\\nvalue = [2, 3, 8]\"] ;\\n153 -> 165 ;\\n166 [label=\"X[3] <= 3.5\\\\nentropy = 0.65\\\\nsamples = 6\\\\nvalue = [0, 1, 5]\"] ;\\n165 -> 166 ;\\n167 [label=\"X[2] <= 3.5\\\\nentropy = 0.918\\\\nsamples = 3\\\\nvalue = [0, 1, 2]\"] ;\\n166 -> 167 ;\\n168 [label=\"entropy = 0.0\\\\nsamples = 1\\\\nvalue = [0, 1, 0]\"] ;\\n167 -> 168 ;\\n169 [label=\"entropy = 0.0\\\\nsamples = 2\\\\nvalue = [0, 0, 2]\"] ;\\n167 -> 169 ;\\n170 [label=\"entropy = 0.0\\\\nsamples = 3\\\\nvalue = [0, 0, 3]\"] ;\\n166 -> 170 ;\\n171 [label=\"X[2] <= 4.5\\\\nentropy = 1.557\\\\nsamples = 7\\\\nvalue = [2, 2, 3]\"] ;\\n165 -> 171 ;\\n172 [label=\"X[3] <= 4.5\\\\nentropy = 1.5\\\\nsamples = 4\\\\nvalue = [1, 2, 1]\"] ;\\n171 -> 172 ;\\n173 [label=\"X[3] <= 3.5\\\\nentropy = 0.918\\\\nsamples = 3\\\\nvalue = [0, 2, 1]\"] ;\\n172 -> 173 ;\\n174 [label=\"entropy = 0.0\\\\nsamples = 1\\\\nvalue = [0, 1, 0]\"] ;\\n173 -> 174 ;\\n175 [label=\"X[2] <= 3.5\\\\nentropy = 1.0\\\\nsamples = 2\\\\nvalue = [0, 1, 1]\"] ;\\n173 -> 175 ;\\n176 [label=\"entropy = 0.0\\\\nsamples = 1\\\\nvalue = [0, 1, 0]\"] ;\\n175 -> 176 ;\\n177 [label=\"entropy = 0.0\\\\nsamples = 1\\\\nvalue = [0, 0, 1]\"] ;\\n175 -> 177 ;\\n178 [label=\"entropy = 0.0\\\\nsamples = 1\\\\nvalue = [1, 0, 0]\"] ;\\n172 -> 178 ;\\n179 [label=\"X[3] <= 3.5\\\\nentropy = 0.918\\\\nsamples = 3\\\\nvalue = [1, 0, 2]\"] ;\\n171 -> 179 ;\\n180 [label=\"entropy = 0.0\\\\nsamples = 1\\\\nvalue = [1, 0, 0]\"] ;\\n179 -> 180 ;\\n181 [label=\"entropy = 0.0\\\\nsamples = 2\\\\nvalue = [0, 0, 2]\"] ;\\n179 -> 181 ;\\n182 [label=\"X[2] <= 3.5\\\\nentropy = 1.37\\\\nsamples = 47\\\\nvalue = [8, 28, 11]\"] ;\\n136 -> 182 ;\\n183 [label=\"X[0] <= 3.5\\\\nentropy = 0.286\\\\nsamples = 20\\\\nvalue = [1, 19, 0]\"] ;\\n182 -> 183 ;\\n184 [label=\"X[3] <= 4.5\\\\nentropy = 0.592\\\\nsamples = 7\\\\nvalue = [1, 6, 0]\"] ;\\n183 -> 184 ;\\n185 [label=\"entropy = 0.0\\\\nsamples = 5\\\\nvalue = [0, 5, 0]\"] ;\\n184 -> 185 ;\\n186 [label=\"X[2] <= 2.5\\\\nentropy = 1.0\\\\nsamples = 2\\\\nvalue = [1, 1, 0]\"] ;\\n184 -> 186 ;\\n187 [label=\"entropy = 0.0\\\\nsamples = 1\\\\nvalue = [0, 1, 0]\"] ;\\n186 -> 187 ;\\n188 [label=\"entropy = 0.0\\\\nsamples = 1\\\\nvalue = [1, 0, 0]\"] ;\\n186 -> 188 ;\\n189 [label=\"entropy = 0.0\\\\nsamples = 13\\\\nvalue = [0, 13, 0]\"] ;\\n183 -> 189 ;\\n190 [label=\"X[3] <= 4.5\\\\nentropy = 1.561\\\\nsamples = 27\\\\nvalue = [7, 9, 11]\"] ;\\n182 -> 190 ;\\n191 [label=\"X[0] <= 3.5\\\\nentropy = 1.468\\\\nsamples = 17\\\\nvalue = [4, 9, 4]\"] ;\\n190 -> 191 ;\\n192 [label=\"X[3] <= 3.5\\\\nentropy = 1.252\\\\nsamples = 6\\\\nvalue = [1, 1, 4]\"] ;\\n191 -> 192 ;\\n193 [label=\"X[2] <= 4.5\\\\nentropy = 1.585\\\\nsamples = 3\\\\nvalue = [1, 1, 1]\"] ;\\n192 -> 193 ;\\n194 [label=\"entropy = 0.0\\\\nsamples = 1\\\\nvalue = [0, 1, 0]\"] ;\\n193 -> 194 ;\\n195 [label=\"X[1] <= 4.5\\\\nentropy = 1.0\\\\nsamples = 2\\\\nvalue = [1, 0, 1]\"] ;\\n193 -> 195 ;\\n196 [label=\"entropy = 0.0\\\\nsamples = 1\\\\nvalue = [0, 0, 1]\"] ;\\n195 -> 196 ;\\n197 [label=\"entropy = 0.0\\\\nsamples = 1\\\\nvalue = [1, 0, 0]\"] ;\\n195 -> 197 ;\\n198 [label=\"entropy = 0.0\\\\nsamples = 3\\\\nvalue = [0, 0, 3]\"] ;\\n192 -> 198 ;\\n199 [label=\"X[3] <= 3.5\\\\nentropy = 0.845\\\\nsamples = 11\\\\nvalue = [3, 8, 0]\"] ;\\n191 -> 199 ;\\n200 [label=\"entropy = 0.0\\\\nsamples = 5\\\\nvalue = [0, 5, 0]\"] ;\\n199 -> 200 ;\\n201 [label=\"X[2] <= 4.5\\\\nentropy = 1.0\\\\nsamples = 6\\\\nvalue = [3, 3, 0]\"] ;\\n199 -> 201 ;\\n202 [label=\"X[1] <= 4.5\\\\nentropy = 0.811\\\\nsamples = 4\\\\nvalue = [1, 3, 0]\"] ;\\n201 -> 202 ;\\n203 [label=\"X[0] <= 4.5\\\\nentropy = 1.0\\\\nsamples = 2\\\\nvalue = [1, 1, 0]\"] ;\\n202 -> 203 ;\\n204 [label=\"entropy = 0.0\\\\nsamples = 1\\\\nvalue = [1, 0, 0]\"] ;\\n203 -> 204 ;\\n205 [label=\"entropy = 0.0\\\\nsamples = 1\\\\nvalue = [0, 1, 0]\"] ;\\n203 -> 205 ;\\n206 [label=\"entropy = 0.0\\\\nsamples = 2\\\\nvalue = [0, 2, 0]\"] ;\\n202 -> 206 ;\\n207 [label=\"entropy = 0.0\\\\nsamples = 2\\\\nvalue = [2, 0, 0]\"] ;\\n201 -> 207 ;\\n208 [label=\"X[0] <= 3.5\\\\nentropy = 0.881\\\\nsamples = 10\\\\nvalue = [3, 0, 7]\"] ;\\n190 -> 208 ;\\n209 [label=\"entropy = 0.0\\\\nsamples = 3\\\\nvalue = [0, 0, 3]\"] ;\\n208 -> 209 ;\\n210 [label=\"X[2] <= 4.5\\\\nentropy = 0.985\\\\nsamples = 7\\\\nvalue = [3, 0, 4]\"] ;\\n208 -> 210 ;\\n211 [label=\"X[0] <= 4.5\\\\nentropy = 0.918\\\\nsamples = 3\\\\nvalue = [2, 0, 1]\"] ;\\n210 -> 211 ;\\n212 [label=\"X[1] <= 4.5\\\\nentropy = 1.0\\\\nsamples = 2\\\\nvalue = [1, 0, 1]\"] ;\\n211 -> 212 ;\\n213 [label=\"entropy = 0.0\\\\nsamples = 1\\\\nvalue = [0, 0, 1]\"] ;\\n212 -> 213 ;\\n214 [label=\"entropy = 0.0\\\\nsamples = 1\\\\nvalue = [1, 0, 0]\"] ;\\n212 -> 214 ;\\n215 [label=\"entropy = 0.0\\\\nsamples = 1\\\\nvalue = [1, 0, 0]\"] ;\\n211 -> 215 ;\\n216 [label=\"X[1] <= 4.5\\\\nentropy = 0.811\\\\nsamples = 4\\\\nvalue = [1, 0, 3]\"] ;\\n210 -> 216 ;\\n217 [label=\"entropy = 0.0\\\\nsamples = 2\\\\nvalue = [0, 0, 2]\"] ;\\n216 -> 217 ;\\n218 [label=\"X[0] <= 4.5\\\\nentropy = 1.0\\\\nsamples = 2\\\\nvalue = [1, 0, 1]\"] ;\\n216 -> 218 ;\\n219 [label=\"entropy = 0.0\\\\nsamples = 1\\\\nvalue = [0, 0, 1]\"] ;\\n218 -> 219 ;\\n220 [label=\"entropy = 0.0\\\\nsamples = 1\\\\nvalue = [1, 0, 0]\"] ;\\n218 -> 220 ;\\n}'"
      ]
     },
     "execution_count": 20,
     "metadata": {},
     "output_type": "execute_result"
    }
   ],
   "source": [
    "tree.export_graphviz(clf) "
   ]
  },
  {
   "cell_type": "code",
   "execution_count": 21,
   "metadata": {},
   "outputs": [],
   "source": [
    "from IPython.display import SVG\n",
    "from graphviz import Source\n",
    "from IPython.display import display"
   ]
  },
  {
   "cell_type": "code",
   "execution_count": 22,
   "metadata": {},
   "outputs": [
    {
     "ename": "NameError",
     "evalue": "name 'estimator' is not defined",
     "output_type": "error",
     "traceback": [
      "\u001b[1;31m---------------------------------------------------------------------------\u001b[0m",
      "\u001b[1;31mNameError\u001b[0m                                 Traceback (most recent call last)",
      "\u001b[1;32m<ipython-input-22-9beae4e79d67>\u001b[0m in \u001b[0;36m<module>\u001b[1;34m\u001b[0m\n\u001b[1;32m----> 1\u001b[1;33m graph = Source(tree.export_graphviz(estimator, out_file=None\n\u001b[0m\u001b[0;32m      2\u001b[0m    \u001b[1;33m,\u001b[0m \u001b[0mfeature_names\u001b[0m\u001b[1;33m=\u001b[0m\u001b[0mlabels\u001b[0m\u001b[1;33m,\u001b[0m \u001b[0mclass_names\u001b[0m\u001b[1;33m=\u001b[0m\u001b[1;33m[\u001b[0m\u001b[1;34m'0'\u001b[0m\u001b[1;33m,\u001b[0m \u001b[1;34m'1'\u001b[0m\u001b[1;33m,\u001b[0m \u001b[1;34m'2'\u001b[0m\u001b[1;33m]\u001b[0m\u001b[1;33m\u001b[0m\u001b[1;33m\u001b[0m\u001b[0m\n\u001b[0;32m      3\u001b[0m    , filled = True))\n\u001b[0;32m      4\u001b[0m \u001b[0mdisplay\u001b[0m\u001b[1;33m(\u001b[0m\u001b[0mSVG\u001b[0m\u001b[1;33m(\u001b[0m\u001b[0mgraph\u001b[0m\u001b[1;33m.\u001b[0m\u001b[0mpipe\u001b[0m\u001b[1;33m(\u001b[0m\u001b[0mformat\u001b[0m\u001b[1;33m=\u001b[0m\u001b[1;34m'svg'\u001b[0m\u001b[1;33m)\u001b[0m\u001b[1;33m)\u001b[0m\u001b[1;33m)\u001b[0m\u001b[1;33m\u001b[0m\u001b[1;33m\u001b[0m\u001b[0m\n",
      "\u001b[1;31mNameError\u001b[0m: name 'estimator' is not defined"
     ]
    }
   ],
   "source": [
    "graph = Source(tree.export_graphviz(estimator, out_file=None\n",
    "   , feature_names=labels, class_names=['0', '1', '2'] \n",
    "   , filled = True))\n",
    "display(SVG(graph.pipe(format='svg')))"
   ]
  },
  {
   "cell_type": "code",
   "execution_count": null,
   "metadata": {},
   "outputs": [],
   "source": []
  }
 ],
 "metadata": {
  "kernelspec": {
   "display_name": "Python 3",
   "language": "python",
   "name": "python3"
  },
  "language_info": {
   "codemirror_mode": {
    "name": "ipython",
    "version": 3
   },
   "file_extension": ".py",
   "mimetype": "text/x-python",
   "name": "python",
   "nbconvert_exporter": "python",
   "pygments_lexer": "ipython3",
   "version": "3.7.3"
  }
 },
 "nbformat": 4,
 "nbformat_minor": 2
}
