{
 "cells": [
  {
   "cell_type": "code",
   "execution_count": 5,
   "metadata": {},
   "outputs": [],
   "source": [
    "import numpy as np\n",
    "import pandas as pd\n",
    "from sklearn.metrics import confusion_matrix\n",
    "from sklearn.model_selection import train_test_split\n",
    "from sklearn.tree import DecisionTreeClassifier\n",
    "from sklearn.metrics import accuracy_score\n",
    "from sklearn.metrics import classification_report"
   ]
  },
  {
   "cell_type": "markdown",
   "metadata": {},
   "source": [
    "<h3>Data Importing</h3>"
   ]
  },
  {
   "cell_type": "code",
   "execution_count": 6,
   "metadata": {},
   "outputs": [],
   "source": [
    "df = pd.read_csv('https://archive.ics.uci.edu/ml/machine-learning-'+\n",
    "'databases/balance-scale/balance-scale.data')"
   ]
  },
  {
   "cell_type": "code",
   "execution_count": 7,
   "metadata": {},
   "outputs": [
    {
     "data": {
      "text/html": [
       "<div>\n",
       "<style scoped>\n",
       "    .dataframe tbody tr th:only-of-type {\n",
       "        vertical-align: middle;\n",
       "    }\n",
       "\n",
       "    .dataframe tbody tr th {\n",
       "        vertical-align: top;\n",
       "    }\n",
       "\n",
       "    .dataframe thead th {\n",
       "        text-align: right;\n",
       "    }\n",
       "</style>\n",
       "<table border=\"1\" class=\"dataframe\">\n",
       "  <thead>\n",
       "    <tr style=\"text-align: right;\">\n",
       "      <th></th>\n",
       "      <th>B</th>\n",
       "      <th>1</th>\n",
       "      <th>1.1</th>\n",
       "      <th>1.2</th>\n",
       "      <th>1.3</th>\n",
       "    </tr>\n",
       "  </thead>\n",
       "  <tbody>\n",
       "    <tr>\n",
       "      <th>0</th>\n",
       "      <td>R</td>\n",
       "      <td>1</td>\n",
       "      <td>1</td>\n",
       "      <td>1</td>\n",
       "      <td>2</td>\n",
       "    </tr>\n",
       "    <tr>\n",
       "      <th>1</th>\n",
       "      <td>R</td>\n",
       "      <td>1</td>\n",
       "      <td>1</td>\n",
       "      <td>1</td>\n",
       "      <td>3</td>\n",
       "    </tr>\n",
       "    <tr>\n",
       "      <th>2</th>\n",
       "      <td>R</td>\n",
       "      <td>1</td>\n",
       "      <td>1</td>\n",
       "      <td>1</td>\n",
       "      <td>4</td>\n",
       "    </tr>\n",
       "    <tr>\n",
       "      <th>3</th>\n",
       "      <td>R</td>\n",
       "      <td>1</td>\n",
       "      <td>1</td>\n",
       "      <td>1</td>\n",
       "      <td>5</td>\n",
       "    </tr>\n",
       "    <tr>\n",
       "      <th>4</th>\n",
       "      <td>R</td>\n",
       "      <td>1</td>\n",
       "      <td>1</td>\n",
       "      <td>2</td>\n",
       "      <td>1</td>\n",
       "    </tr>\n",
       "  </tbody>\n",
       "</table>\n",
       "</div>"
      ],
      "text/plain": [
       "   B  1  1.1  1.2  1.3\n",
       "0  R  1    1    1    2\n",
       "1  R  1    1    1    3\n",
       "2  R  1    1    1    4\n",
       "3  R  1    1    1    5\n",
       "4  R  1    1    2    1"
      ]
     },
     "execution_count": 7,
     "metadata": {},
     "output_type": "execute_result"
    }
   ],
   "source": [
    "df.head(5)"
   ]
  },
  {
   "cell_type": "code",
   "execution_count": 8,
   "metadata": {},
   "outputs": [
    {
     "data": {
      "text/plain": [
       "(624, 5)"
      ]
     },
     "execution_count": 8,
     "metadata": {},
     "output_type": "execute_result"
    }
   ],
   "source": [
    "df.shape"
   ]
  },
  {
   "cell_type": "code",
   "execution_count": 9,
   "metadata": {},
   "outputs": [],
   "source": [
    "x = df.values[:,1:5]\n",
    "y = df.values[:,0]"
   ]
  },
  {
   "cell_type": "code",
   "execution_count": 13,
   "metadata": {},
   "outputs": [],
   "source": [
    "x_train,x_test,y_train,y_test = train_test_split(x,y,test_size=0.3,random_state=100)"
   ]
  },
  {
   "cell_type": "markdown",
   "metadata": {},
   "source": [
    "<h3>Decision Tree using GINI index</h3>"
   ]
  },
  {
   "cell_type": "code",
   "execution_count": 14,
   "metadata": {},
   "outputs": [],
   "source": [
    "clf_gini = DecisionTreeClassifier(criterion='gini',\n",
    "                                  random_state=100)"
   ]
  },
  {
   "cell_type": "code",
   "execution_count": 15,
   "metadata": {},
   "outputs": [
    {
     "data": {
      "text/plain": [
       "DecisionTreeClassifier(class_weight=None, criterion='gini', max_depth=None,\n",
       "                       max_features=None, max_leaf_nodes=None,\n",
       "                       min_impurity_decrease=0.0, min_impurity_split=None,\n",
       "                       min_samples_leaf=1, min_samples_split=2,\n",
       "                       min_weight_fraction_leaf=0.0, presort=False,\n",
       "                       random_state=100, splitter='best')"
      ]
     },
     "execution_count": 15,
     "metadata": {},
     "output_type": "execute_result"
    }
   ],
   "source": [
    "clf_gini.fit(x_train,y_train)"
   ]
  },
  {
   "cell_type": "markdown",
   "metadata": {},
   "source": [
    "<h3>Prediction</h3>"
   ]
  },
  {
   "cell_type": "code",
   "execution_count": 16,
   "metadata": {},
   "outputs": [],
   "source": [
    "y_pred = clf_gini.predict(x_test)"
   ]
  },
  {
   "cell_type": "code",
   "execution_count": 22,
   "metadata": {},
   "outputs": [],
   "source": [
    "y_pred=pd.Series(y_pred)"
   ]
  },
  {
   "cell_type": "code",
   "execution_count": 29,
   "metadata": {},
   "outputs": [
    {
     "data": {
      "text/html": [
       "<div>\n",
       "<style scoped>\n",
       "    .dataframe tbody tr th:only-of-type {\n",
       "        vertical-align: middle;\n",
       "    }\n",
       "\n",
       "    .dataframe tbody tr th {\n",
       "        vertical-align: top;\n",
       "    }\n",
       "\n",
       "    .dataframe thead th {\n",
       "        text-align: right;\n",
       "    }\n",
       "</style>\n",
       "<table border=\"1\" class=\"dataframe\">\n",
       "  <thead>\n",
       "    <tr style=\"text-align: right;\">\n",
       "      <th></th>\n",
       "      <th>X_test</th>\n",
       "      <th>Y_pred</th>\n",
       "    </tr>\n",
       "  </thead>\n",
       "  <tbody>\n",
       "    <tr>\n",
       "      <th>0</th>\n",
       "      <td>R</td>\n",
       "      <td>R</td>\n",
       "    </tr>\n",
       "    <tr>\n",
       "      <th>1</th>\n",
       "      <td>R</td>\n",
       "      <td>L</td>\n",
       "    </tr>\n",
       "    <tr>\n",
       "      <th>2</th>\n",
       "      <td>R</td>\n",
       "      <td>R</td>\n",
       "    </tr>\n",
       "    <tr>\n",
       "      <th>3</th>\n",
       "      <td>R</td>\n",
       "      <td>L</td>\n",
       "    </tr>\n",
       "    <tr>\n",
       "      <th>4</th>\n",
       "      <td>R</td>\n",
       "      <td>R</td>\n",
       "    </tr>\n",
       "  </tbody>\n",
       "</table>\n",
       "</div>"
      ],
      "text/plain": [
       "  X_test Y_pred\n",
       "0      R      R\n",
       "1      R      L\n",
       "2      R      R\n",
       "3      R      L\n",
       "4      R      R"
      ]
     },
     "execution_count": 29,
     "metadata": {},
     "output_type": "execute_result"
    }
   ],
   "source": [
    "pd.DataFrame({'X_test':df['B'],'Y_pred':y_pred}).head(5)"
   ]
  },
  {
   "cell_type": "code",
   "execution_count": 30,
   "metadata": {},
   "outputs": [],
   "source": [
    "import matplotlib.pyplot as plt\n",
    "import seaborn as sns"
   ]
  },
  {
   "cell_type": "code",
   "execution_count": 31,
   "metadata": {},
   "outputs": [],
   "source": [
    "cf = confusion_matrix(y_test,y_pred)"
   ]
  },
  {
   "cell_type": "markdown",
   "metadata": {},
   "source": [
    "<h3>Confusion Metrix</h3>"
   ]
  },
  {
   "cell_type": "code",
   "execution_count": 32,
   "metadata": {
    "scrolled": true
   },
   "outputs": [
    {
     "data": {
      "text/plain": [
       "<matplotlib.axes._subplots.AxesSubplot at 0x22105a7acf8>"
      ]
     },
     "execution_count": 32,
     "metadata": {},
     "output_type": "execute_result"
    },
    {
     "data": {
      "image/png": "[encoded data removed]",
      "text/plain": [
       "<Figure size 720x504 with 2 Axes>"
      ]
     },
     "metadata": {
      "needs_background": "light"
     },
     "output_type": "display_data"
    }
   ],
   "source": [
    "plt.figure(figsize=(10,7))\n",
    "sns.heatmap(cf,annot=True)"
   ]
  },
  {
   "cell_type": "code",
   "execution_count": 33,
   "metadata": {},
   "outputs": [
    {
     "name": "stdout",
     "output_type": "stream",
     "text": [
      "accuracy : 0.7978723404255319\n"
     ]
    }
   ],
   "source": [
    "print('accuracy :',accuracy_score(y_test,y_pred))"
   ]
  },
  {
   "cell_type": "code",
   "execution_count": 34,
   "metadata": {},
   "outputs": [],
   "source": [
    "from sklearn import tree"
   ]
  },
  {
   "cell_type": "code",
   "execution_count": 35,
   "metadata": {},
   "outputs": [
    {
     "data": {
      "text/plain": [
       "[Text(129.30576923076924, 209.07692307692307, 'X[2] <= 2.5\\nentropy = 0.569\\nsamples = 436\\nvalue = [34, 197, 205]'),\n",
       " Text(53.29615384615385, 192.35076923076923, 'X[1] <= 1.5\\nentropy = 0.443\\nsamples = 167\\nvalue = [10, 118, 39]'),\n",
       " Text(30.76153846153846, 175.62461538461537, 'X[0] <= 4.5\\nentropy = 0.531\\nsamples = 31\\nvalue = [3, 9, 19]'),\n",
       " Text(21.461538461538463, 158.89846153846153, 'X[3] <= 2.5\\nentropy = 0.42\\nsamples = 23\\nvalue = [3, 3, 17]'),\n",
       " Text(11.446153846153846, 142.1723076923077, 'X[2] <= 1.5\\nentropy = 0.642\\nsamples = 9\\nvalue = [2, 3, 4]'),\n",
       " Text(5.723076923076923, 125.44615384615385, 'X[0] <= 2.0\\nentropy = 0.375\\nsamples = 4\\nvalue = [0, 3, 1]'),\n",
       " Text(2.8615384615384616, 108.72, 'entropy = 0.0\\nsamples = 1\\nvalue = [0, 0, 1]'),\n",
       " Text(8.584615384615384, 108.72, 'entropy = 0.0\\nsamples = 3\\nvalue = [0, 3, 0]'),\n",
       " Text(17.16923076923077, 125.44615384615385, 'X[0] <= 3.5\\nentropy = 0.48\\nsamples = 5\\nvalue = [2, 0, 3]'),\n",
       " Text(14.307692307692308, 108.72, 'X[3] <= 1.5\\nentropy = 0.375\\nsamples = 4\\nvalue = [1, 0, 3]'),\n",
       " Text(11.446153846153846, 91.99384615384615, 'X[0] <= 1.5\\nentropy = 0.5\\nsamples = 2\\nvalue = [1, 0, 1]'),\n",
       " Text(8.584615384615384, 75.2676923076923, 'entropy = 0.0\\nsamples = 1\\nvalue = [0, 0, 1]'),\n",
       " Text(14.307692307692308, 75.2676923076923, 'entropy = 0.0\\nsamples = 1\\nvalue = [1, 0, 0]'),\n",
       " Text(17.16923076923077, 91.99384615384615, 'entropy = 0.0\\nsamples = 2\\nvalue = [0, 0, 2]'),\n",
       " Text(20.03076923076923, 108.72, 'entropy = 0.0\\nsamples = 1\\nvalue = [1, 0, 0]'),\n",
       " Text(31.47692307692308, 142.1723076923077, 'X[3] <= 3.5\\nentropy = 0.133\\nsamples = 14\\nvalue = [1, 0, 13]'),\n",
       " Text(28.615384615384617, 125.44615384615385, 'X[0] <= 2.5\\nentropy = 0.32\\nsamples = 5\\nvalue = [1, 0, 4]'),\n",
       " Text(25.753846153846155, 108.72, 'entropy = 0.0\\nsamples = 3\\nvalue = [0, 0, 3]'),\n",
       " Text(31.47692307692308, 108.72, 'X[2] <= 1.5\\nentropy = 0.5\\nsamples = 2\\nvalue = [1, 0, 1]'),\n",
       " Text(28.615384615384617, 91.99384615384615, 'entropy = 0.0\\nsamples = 1\\nvalue = [1, 0, 0]'),\n",
       " Text(34.33846153846154, 91.99384615384615, 'entropy = 0.0\\nsamples = 1\\nvalue = [0, 0, 1]'),\n",
       " Text(34.33846153846154, 125.44615384615385, 'entropy = 0.0\\nsamples = 9\\nvalue = [0, 0, 9]'),\n",
       " Text(40.06153846153846, 158.89846153846153, 'X[3] <= 3.5\\nentropy = 0.375\\nsamples = 8\\nvalue = [0, 6, 2]'),\n",
       " Text(37.2, 142.1723076923077, 'entropy = 0.0\\nsamples = 5\\nvalue = [0, 5, 0]'),\n",
       " Text(42.92307692307693, 142.1723076923077, 'X[2] <= 1.5\\nentropy = 0.444\\nsamples = 3\\nvalue = [0, 1, 2]'),\n",
       " Text(40.06153846153846, 125.44615384615385, 'entropy = 0.0\\nsamples = 1\\nvalue = [0, 1, 0]'),\n",
       " Text(45.784615384615385, 125.44615384615385, 'entropy = 0.0\\nsamples = 2\\nvalue = [0, 0, 2]'),\n",
       " Text(75.83076923076923, 175.62461538461537, 'X[0] <= 1.5\\nentropy = 0.333\\nsamples = 136\\nvalue = [7, 109, 20]'),\n",
       " Text(60.09230769230769, 158.89846153846153, 'X[3] <= 1.5\\nentropy = 0.59\\nsamples = 27\\nvalue = [3, 11, 13]'),\n",
       " Text(57.23076923076923, 142.1723076923077, 'entropy = 0.0\\nsamples = 6\\nvalue = [0, 6, 0]'),\n",
       " Text(62.95384615384616, 142.1723076923077, 'X[2] <= 1.5\\nentropy = 0.54\\nsamples = 21\\nvalue = [3, 5, 13]'),\n",
       " Text(51.50769230769231, 125.44615384615385, 'X[1] <= 3.5\\nentropy = 0.628\\nsamples = 11\\nvalue = [2, 5, 4]'),\n",
       " Text(42.92307692307693, 108.72, 'X[3] <= 2.5\\nentropy = 0.5\\nsamples = 6\\nvalue = [1, 1, 4]'),\n",
       " Text(40.06153846153846, 91.99384615384615, 'entropy = 0.0\\nsamples = 1\\nvalue = [0, 1, 0]'),\n",
       " Text(45.784615384615385, 91.99384615384615, 'X[3] <= 3.5\\nentropy = 0.32\\nsamples = 5\\nvalue = [1, 0, 4]'),\n",
       " Text(42.92307692307693, 75.2676923076923, 'X[1] <= 2.5\\nentropy = 0.5\\nsamples = 2\\nvalue = [1, 0, 1]'),\n",
       " Text(40.06153846153846, 58.541538461538465, 'entropy = 0.0\\nsamples = 1\\nvalue = [0, 0, 1]'),\n",
       " Text(45.784615384615385, 58.541538461538465, 'entropy = 0.0\\nsamples = 1\\nvalue = [1, 0, 0]'),\n",
       " Text(48.646153846153844, 75.2676923076923, 'entropy = 0.0\\nsamples = 3\\nvalue = [0, 0, 3]'),\n",
       " Text(60.09230769230769, 108.72, 'X[1] <= 4.5\\nentropy = 0.32\\nsamples = 5\\nvalue = [1, 4, 0]'),\n",
       " Text(57.23076923076923, 91.99384615384615, 'X[3] <= 3.5\\nentropy = 0.5\\nsamples = 2\\nvalue = [1, 1, 0]'),\n",
       " Text(54.36923076923077, 75.2676923076923, 'entropy = 0.0\\nsamples = 1\\nvalue = [0, 1, 0]'),\n",
       " Text(60.09230769230769, 75.2676923076923, 'entropy = 0.0\\nsamples = 1\\nvalue = [1, 0, 0]'),\n",
       " Text(62.95384615384616, 91.99384615384615, 'entropy = 0.0\\nsamples = 3\\nvalue = [0, 3, 0]'),\n",
       " Text(74.4, 125.44615384615385, 'X[3] <= 2.5\\nentropy = 0.18\\nsamples = 10\\nvalue = [1, 0, 9]'),\n",
       " Text(71.53846153846153, 108.72, 'X[1] <= 3.5\\nentropy = 0.444\\nsamples = 3\\nvalue = [1, 0, 2]'),\n",
       " Text(68.67692307692307, 91.99384615384615, 'entropy = 0.0\\nsamples = 2\\nvalue = [0, 0, 2]'),\n",
       " Text(74.4, 91.99384615384615, 'entropy = 0.0\\nsamples = 1\\nvalue = [1, 0, 0]'),\n",
       " Text(77.26153846153846, 108.72, 'entropy = 0.0\\nsamples = 7\\nvalue = [0, 0, 7]'),\n",
       " Text(91.56923076923077, 158.89846153846153, 'X[2] <= 1.5\\nentropy = 0.186\\nsamples = 109\\nvalue = [4, 98, 7]'),\n",
       " Text(88.70769230769231, 142.1723076923077, 'entropy = 0.0\\nsamples = 58\\nvalue = [0, 58, 0]'),\n",
       " Text(94.43076923076923, 142.1723076923077, 'X[3] <= 4.5\\nentropy = 0.36\\nsamples = 51\\nvalue = [4, 40, 7]'),\n",
       " Text(85.84615384615385, 125.44615384615385, 'X[3] <= 2.5\\nentropy = 0.226\\nsamples = 40\\nvalue = [3, 35, 2]'),\n",
       " Text(82.98461538461538, 108.72, 'entropy = 0.0\\nsamples = 22\\nvalue = [0, 22, 0]'),\n",
       " Text(88.70769230769231, 108.72, 'X[1] <= 3.5\\nentropy = 0.438\\nsamples = 18\\nvalue = [3, 13, 2]'),\n",
       " Text(85.84615384615385, 91.99384615384615, 'X[0] <= 2.5\\nentropy = 0.595\\nsamples = 11\\nvalue = [3, 6, 2]'),\n",
       " Text(77.26153846153846, 75.2676923076923, 'X[1] <= 2.5\\nentropy = 0.444\\nsamples = 3\\nvalue = [1, 0, 2]'),\n",
       " Text(74.4, 58.541538461538465, 'entropy = 0.0\\nsamples = 1\\nvalue = [0, 0, 1]'),\n",
       " Text(80.12307692307692, 58.541538461538465, 'X[3] <= 3.5\\nentropy = 0.5\\nsamples = 2\\nvalue = [1, 0, 1]'),\n",
       " Text(77.26153846153846, 41.81538461538463, 'entropy = 0.0\\nsamples = 1\\nvalue = [1, 0, 0]'),\n",
       " Text(82.98461538461538, 41.81538461538463, 'entropy = 0.0\\nsamples = 1\\nvalue = [0, 0, 1]'),\n",
       " Text(94.43076923076923, 75.2676923076923, 'X[1] <= 2.5\\nentropy = 0.375\\nsamples = 8\\nvalue = [2, 6, 0]'),\n",
       " Text(91.56923076923077, 58.541538461538465, 'X[0] <= 3.5\\nentropy = 0.5\\nsamples = 4\\nvalue = [2, 2, 0]'),\n",
       " Text(88.70769230769231, 41.81538461538463, 'entropy = 0.0\\nsamples = 1\\nvalue = [1, 0, 0]'),\n",
       " Text(94.43076923076923, 41.81538461538463, 'X[0] <= 4.5\\nentropy = 0.444\\nsamples = 3\\nvalue = [1, 2, 0]'),\n",
       " Text(91.56923076923077, 25.089230769230767, 'X[3] <= 3.5\\nentropy = 0.5\\nsamples = 2\\nvalue = [1, 1, 0]'),\n",
       " Text(88.70769230769231, 8.363076923076932, 'entropy = 0.0\\nsamples = 1\\nvalue = [0, 1, 0]'),\n",
       " Text(94.43076923076923, 8.363076923076932, 'entropy = 0.0\\nsamples = 1\\nvalue = [1, 0, 0]'),\n",
       " Text(97.29230769230769, 25.089230769230767, 'entropy = 0.0\\nsamples = 1\\nvalue = [0, 1, 0]'),\n",
       " Text(97.29230769230769, 58.541538461538465, 'entropy = 0.0\\nsamples = 4\\nvalue = [0, 4, 0]'),\n",
       " Text(91.56923076923077, 91.99384615384615, 'entropy = 0.0\\nsamples = 7\\nvalue = [0, 7, 0]'),\n",
       " Text(103.01538461538462, 125.44615384615385, 'X[0] <= 3.5\\nentropy = 0.579\\nsamples = 11\\nvalue = [1, 5, 5]'),\n",
       " Text(100.15384615384616, 108.72, 'X[1] <= 4.5\\nentropy = 0.449\\nsamples = 7\\nvalue = [1, 1, 5]'),\n",
       " Text(97.29230769230769, 91.99384615384615, 'entropy = 0.0\\nsamples = 5\\nvalue = [0, 0, 5]'),\n",
       " Text(103.01538461538462, 91.99384615384615, 'X[0] <= 2.5\\nentropy = 0.5\\nsamples = 2\\nvalue = [1, 1, 0]'),\n",
       " Text(100.15384615384616, 75.2676923076923, 'entropy = 0.0\\nsamples = 1\\nvalue = [1, 0, 0]'),\n",
       " Text(105.87692307692308, 75.2676923076923, 'entropy = 0.0\\nsamples = 1\\nvalue = [0, 1, 0]'),\n",
       " Text(105.87692307692308, 108.72, 'entropy = 0.0\\nsamples = 4\\nvalue = [0, 4, 0]'),\n",
       " Text(205.31538461538463, 192.35076923076923, 'X[3] <= 2.5\\nentropy = 0.525\\nsamples = 269\\nvalue = [24, 79, 166]'),\n",
       " Text(153.27115384615385, 175.62461538461537, 'X[0] <= 2.5\\nentropy = 0.578\\nsamples = 105\\nvalue = [12, 56, 37]'),\n",
       " Text(125.55, 158.89846153846153, 'X[0] <= 1.5\\nentropy = 0.523\\nsamples = 42\\nvalue = [7, 8, 27]'),\n",
       " Text(117.32307692307693, 142.1723076923077, 'X[3] <= 1.5\\nentropy = 0.245\\nsamples = 21\\nvalue = [3, 0, 18]'),\n",
       " Text(114.46153846153847, 125.44615384615385, 'X[1] <= 2.5\\nentropy = 0.469\\nsamples = 8\\nvalue = [3, 0, 5]'),\n",
       " Text(111.60000000000001, 108.72, 'entropy = 0.0\\nsamples = 3\\nvalue = [0, 0, 3]'),\n",
       " Text(117.32307692307693, 108.72, 'X[2] <= 3.5\\nentropy = 0.48\\nsamples = 5\\nvalue = [3, 0, 2]'),\n",
       " Text(114.46153846153847, 91.99384615384615, 'entropy = 0.0\\nsamples = 1\\nvalue = [1, 0, 0]'),\n",
       " Text(120.18461538461538, 91.99384615384615, 'X[1] <= 3.5\\nentropy = 0.5\\nsamples = 4\\nvalue = [2, 0, 2]'),\n",
       " Text(117.32307692307693, 75.2676923076923, 'entropy = 0.0\\nsamples = 1\\nvalue = [0, 0, 1]'),\n",
       " Text(123.04615384615384, 75.2676923076923, 'X[2] <= 4.5\\nentropy = 0.444\\nsamples = 3\\nvalue = [2, 0, 1]'),\n",
       " Text(120.18461538461538, 58.541538461538465, 'entropy = 0.0\\nsamples = 1\\nvalue = [1, 0, 0]'),\n",
       " Text(125.90769230769232, 58.541538461538465, 'X[1] <= 4.5\\nentropy = 0.5\\nsamples = 2\\nvalue = [1, 0, 1]'),\n",
       " Text(123.04615384615384, 41.81538461538463, 'entropy = 0.0\\nsamples = 1\\nvalue = [0, 0, 1]'),\n",
       " Text(128.76923076923077, 41.81538461538463, 'entropy = 0.0\\nsamples = 1\\nvalue = [1, 0, 0]'),\n",
       " Text(120.18461538461538, 125.44615384615385, 'entropy = 0.0\\nsamples = 13\\nvalue = [0, 0, 13]'),\n",
       " Text(133.77692307692308, 142.1723076923077, 'X[1] <= 2.5\\nentropy = 0.635\\nsamples = 21\\nvalue = [4, 8, 9]'),\n",
       " Text(125.90769230769232, 125.44615384615385, 'X[1] <= 1.5\\nentropy = 0.219\\nsamples = 8\\nvalue = [1, 0, 7]'),\n",
       " Text(123.04615384615384, 108.72, 'entropy = 0.0\\nsamples = 5\\nvalue = [0, 0, 5]'),\n",
       " Text(128.76923076923077, 108.72, 'X[3] <= 1.5\\nentropy = 0.444\\nsamples = 3\\nvalue = [1, 0, 2]'),\n",
       " Text(125.90769230769232, 91.99384615384615, 'entropy = 0.0\\nsamples = 1\\nvalue = [1, 0, 0]'),\n",
       " Text(131.63076923076923, 91.99384615384615, 'entropy = 0.0\\nsamples = 2\\nvalue = [0, 0, 2]'),\n",
       " Text(141.64615384615385, 125.44615384615385, 'X[3] <= 1.5\\nentropy = 0.544\\nsamples = 13\\nvalue = [3, 8, 2]'),\n",
       " Text(138.7846153846154, 108.72, 'entropy = 0.0\\nsamples = 6\\nvalue = [0, 6, 0]'),\n",
       " Text(144.5076923076923, 108.72, 'X[2] <= 3.5\\nentropy = 0.653\\nsamples = 7\\nvalue = [3, 2, 2]'),\n",
       " Text(137.35384615384615, 91.99384615384615, 'X[1] <= 3.5\\nentropy = 0.5\\nsamples = 2\\nvalue = [1, 1, 0]'),\n",
       " Text(134.4923076923077, 75.2676923076923, 'entropy = 0.0\\nsamples = 1\\nvalue = [1, 0, 0]'),\n",
       " Text(140.2153846153846, 75.2676923076923, 'entropy = 0.0\\nsamples = 1\\nvalue = [0, 1, 0]'),\n",
       " Text(151.66153846153847, 91.99384615384615, 'X[1] <= 4.5\\nentropy = 0.64\\nsamples = 5\\nvalue = [2, 1, 2]'),\n",
       " Text(145.93846153846155, 75.2676923076923, 'X[2] <= 4.5\\nentropy = 0.444\\nsamples = 3\\nvalue = [1, 0, 2]'),\n",
       " Text(143.07692307692307, 58.541538461538465, 'X[1] <= 3.5\\nentropy = 0.5\\nsamples = 2\\nvalue = [1, 0, 1]'),\n",
       " Text(140.2153846153846, 41.81538461538463, 'entropy = 0.0\\nsamples = 1\\nvalue = [0, 0, 1]'),\n",
       " Text(145.93846153846155, 41.81538461538463, 'entropy = 0.0\\nsamples = 1\\nvalue = [1, 0, 0]'),\n",
       " Text(148.8, 58.541538461538465, 'entropy = 0.0\\nsamples = 1\\nvalue = [0, 0, 1]'),\n",
       " Text(157.3846153846154, 75.2676923076923, 'X[2] <= 4.5\\nentropy = 0.5\\nsamples = 2\\nvalue = [1, 1, 0]'),\n",
       " Text(154.52307692307693, 58.541538461538465, 'entropy = 0.0\\nsamples = 1\\nvalue = [0, 1, 0]'),\n",
       " Text(160.24615384615385, 58.541538461538465, 'entropy = 0.0\\nsamples = 1\\nvalue = [1, 0, 0]'),\n",
       " Text(180.9923076923077, 158.89846153846153, 'X[1] <= 1.5\\nentropy = 0.388\\nsamples = 63\\nvalue = [5, 48, 10]'),\n",
       " Text(171.6923076923077, 142.1723076923077, 'X[3] <= 1.5\\nentropy = 0.529\\nsamples = 11\\nvalue = [2, 2, 7]'),\n",
       " Text(168.83076923076922, 125.44615384615385, 'X[0] <= 4.5\\nentropy = 0.653\\nsamples = 7\\nvalue = [2, 2, 3]'),\n",
       " Text(163.1076923076923, 108.72, 'X[0] <= 3.5\\nentropy = 0.375\\nsamples = 4\\nvalue = [1, 0, 3]'),\n",
       " Text(160.24615384615385, 91.99384615384615, 'entropy = 0.0\\nsamples = 2\\nvalue = [0, 0, 2]'),\n",
       " Text(165.96923076923076, 91.99384615384615, 'X[2] <= 4.5\\nentropy = 0.5\\nsamples = 2\\nvalue = [1, 0, 1]'),\n",
       " Text(163.1076923076923, 75.2676923076923, 'entropy = 0.0\\nsamples = 1\\nvalue = [1, 0, 0]'),\n",
       " Text(168.83076923076922, 75.2676923076923, 'entropy = 0.0\\nsamples = 1\\nvalue = [0, 0, 1]'),\n",
       " Text(174.55384615384617, 108.72, 'X[2] <= 4.5\\nentropy = 0.444\\nsamples = 3\\nvalue = [1, 2, 0]'),\n",
       " Text(171.6923076923077, 91.99384615384615, 'entropy = 0.0\\nsamples = 2\\nvalue = [0, 2, 0]'),\n",
       " Text(177.41538461538462, 91.99384615384615, 'entropy = 0.0\\nsamples = 1\\nvalue = [1, 0, 0]'),\n",
       " Text(174.55384615384617, 125.44615384615385, 'entropy = 0.0\\nsamples = 4\\nvalue = [0, 0, 4]'),\n",
       " Text(190.2923076923077, 142.1723076923077, 'X[1] <= 2.5\\nentropy = 0.211\\nsamples = 52\\nvalue = [3, 46, 3]'),\n",
       " Text(187.43076923076924, 125.44615384615385, 'X[3] <= 1.5\\nentropy = 0.539\\nsamples = 16\\nvalue = [3, 10, 3]'),\n",
       " Text(184.56923076923078, 108.72, 'entropy = 0.0\\nsamples = 8\\nvalue = [0, 8, 0]'),\n",
       " Text(190.2923076923077, 108.72, 'X[2] <= 4.5\\nentropy = 0.656\\nsamples = 8\\nvalue = [3, 2, 3]'),\n",
       " Text(183.13846153846154, 91.99384615384615, 'X[0] <= 3.5\\nentropy = 0.64\\nsamples = 5\\nvalue = [2, 2, 1]'),\n",
       " Text(177.41538461538462, 75.2676923076923, 'X[2] <= 3.5\\nentropy = 0.5\\nsamples = 2\\nvalue = [1, 0, 1]'),\n",
       " Text(174.55384615384617, 58.541538461538465, 'entropy = 0.0\\nsamples = 1\\nvalue = [1, 0, 0]'),\n",
       " Text(180.27692307692308, 58.541538461538465, 'entropy = 0.0\\nsamples = 1\\nvalue = [0, 0, 1]'),\n",
       " Text(188.86153846153846, 75.2676923076923, 'X[0] <= 4.5\\nentropy = 0.444\\nsamples = 3\\nvalue = [1, 2, 0]'),\n",
       " Text(186.0, 58.541538461538465, 'X[2] <= 3.5\\nentropy = 0.5\\nsamples = 2\\nvalue = [1, 1, 0]'),\n",
       " Text(183.13846153846154, 41.81538461538463, 'entropy = 0.0\\nsamples = 1\\nvalue = [0, 1, 0]'),\n",
       " Text(188.86153846153846, 41.81538461538463, 'entropy = 0.0\\nsamples = 1\\nvalue = [1, 0, 0]'),\n",
       " Text(191.72307692307692, 58.541538461538465, 'entropy = 0.0\\nsamples = 1\\nvalue = [0, 1, 0]'),\n",
       " Text(197.44615384615386, 91.99384615384615, 'X[0] <= 4.5\\nentropy = 0.444\\nsamples = 3\\nvalue = [1, 0, 2]'),\n",
       " Text(194.58461538461538, 75.2676923076923, 'entropy = 0.0\\nsamples = 2\\nvalue = [0, 0, 2]'),\n",
       " Text(200.30769230769232, 75.2676923076923, 'entropy = 0.0\\nsamples = 1\\nvalue = [1, 0, 0]'),\n",
       " Text(193.15384615384616, 125.44615384615385, 'entropy = 0.0\\nsamples = 36\\nvalue = [0, 36, 0]'),\n",
       " Text(257.3596153846154, 175.62461538461537, 'X[0] <= 3.5\\nentropy = 0.356\\nsamples = 164\\nvalue = [12, 23, 129]'),\n",
       " Text(222.48461538461538, 158.89846153846153, 'X[0] <= 2.5\\nentropy = 0.129\\nsamples = 103\\nvalue = [3, 4, 96]'),\n",
       " Text(211.75384615384615, 142.1723076923077, 'X[1] <= 4.5\\nentropy = 0.028\\nsamples = 70\\nvalue = [0, 1, 69]'),\n",
       " Text(208.8923076923077, 125.44615384615385, 'entropy = 0.0\\nsamples = 54\\nvalue = [0, 0, 54]'),\n",
       " Text(214.6153846153846, 125.44615384615385, 'X[3] <= 3.5\\nentropy = 0.117\\nsamples = 16\\nvalue = [0, 1, 15]'),\n",
       " Text(211.75384615384615, 108.72, 'X[2] <= 3.5\\nentropy = 0.278\\nsamples = 6\\nvalue = [0, 1, 5]'),\n",
       " Text(208.8923076923077, 91.99384615384615, 'X[0] <= 1.5\\nentropy = 0.5\\nsamples = 2\\nvalue = [0, 1, 1]'),\n",
       " Text(206.03076923076924, 75.2676923076923, 'entropy = 0.0\\nsamples = 1\\nvalue = [0, 0, 1]'),\n",
       " Text(211.75384615384615, 75.2676923076923, 'entropy = 0.0\\nsamples = 1\\nvalue = [0, 1, 0]'),\n",
       " Text(214.6153846153846, 91.99384615384615, 'entropy = 0.0\\nsamples = 4\\nvalue = [0, 0, 4]'),\n",
       " Text(217.47692307692307, 108.72, 'entropy = 0.0\\nsamples = 10\\nvalue = [0, 0, 10]'),\n",
       " Text(233.2153846153846, 142.1723076923077, 'X[1] <= 3.5\\nentropy = 0.314\\nsamples = 33\\nvalue = [3, 3, 27]'),\n",
       " Text(226.06153846153848, 125.44615384615385, 'X[2] <= 3.5\\nentropy = 0.091\\nsamples = 21\\nvalue = [1, 0, 20]'),\n",
       " Text(223.20000000000002, 108.72, 'X[1] <= 2.5\\nentropy = 0.245\\nsamples = 7\\nvalue = [1, 0, 6]'),\n",
       " Text(220.33846153846153, 91.99384615384615, 'entropy = 0.0\\nsamples = 4\\nvalue = [0, 0, 4]'),\n",
       " Text(226.06153846153848, 91.99384615384615, 'X[3] <= 3.5\\nentropy = 0.444\\nsamples = 3\\nvalue = [1, 0, 2]'),\n",
       " Text(223.20000000000002, 75.2676923076923, 'entropy = 0.0\\nsamples = 1\\nvalue = [1, 0, 0]'),\n",
       " Text(228.92307692307693, 75.2676923076923, 'entropy = 0.0\\nsamples = 2\\nvalue = [0, 0, 2]'),\n",
       " Text(228.92307692307693, 108.72, 'entropy = 0.0\\nsamples = 14\\nvalue = [0, 0, 14]'),\n",
       " Text(240.36923076923077, 125.44615384615385, 'X[2] <= 3.5\\nentropy = 0.569\\nsamples = 12\\nvalue = [2, 3, 7]'),\n",
       " Text(234.64615384615385, 108.72, 'X[3] <= 4.5\\nentropy = 0.444\\nsamples = 3\\nvalue = [1, 2, 0]'),\n",
       " Text(231.7846153846154, 91.99384615384615, 'entropy = 0.0\\nsamples = 2\\nvalue = [0, 2, 0]'),\n",
       " Text(237.5076923076923, 91.99384615384615, 'entropy = 0.0\\nsamples = 1\\nvalue = [1, 0, 0]'),\n",
       " Text(246.09230769230768, 108.72, 'X[3] <= 3.5\\nentropy = 0.37\\nsamples = 9\\nvalue = [1, 1, 7]'),\n",
       " Text(243.23076923076923, 91.99384615384615, 'X[2] <= 4.5\\nentropy = 0.667\\nsamples = 3\\nvalue = [1, 1, 1]'),\n",
       " Text(240.36923076923077, 75.2676923076923, 'entropy = 0.0\\nsamples = 1\\nvalue = [0, 1, 0]'),\n",
       " Text(246.09230769230768, 75.2676923076923, 'X[1] <= 4.5\\nentropy = 0.5\\nsamples = 2\\nvalue = [1, 0, 1]'),\n",
       " Text(243.23076923076923, 58.541538461538465, 'entropy = 0.0\\nsamples = 1\\nvalue = [0, 0, 1]'),\n",
       " Text(248.95384615384617, 58.541538461538465, 'entropy = 0.0\\nsamples = 1\\nvalue = [1, 0, 0]'),\n",
       " Text(248.95384615384617, 91.99384615384615, 'entropy = 0.0\\nsamples = 6\\nvalue = [0, 0, 6]'),\n",
       " Text(292.2346153846154, 158.89846153846153, 'X[1] <= 3.5\\nentropy = 0.589\\nsamples = 61\\nvalue = [9, 19, 33]'),\n",
       " Text(271.13076923076926, 142.1723076923077, 'X[1] <= 2.5\\nentropy = 0.299\\nsamples = 35\\nvalue = [3, 3, 29]'),\n",
       " Text(260.4, 125.44615384615385, 'X[3] <= 3.5\\nentropy = 0.087\\nsamples = 22\\nvalue = [0, 1, 21]'),\n",
       " Text(257.53846153846155, 108.72, 'X[2] <= 3.5\\nentropy = 0.219\\nsamples = 8\\nvalue = [0, 1, 7]'),\n",
       " Text(254.6769230769231, 91.99384615384615, 'X[1] <= 1.5\\nentropy = 0.444\\nsamples = 3\\nvalue = [0, 1, 2]'),\n",
       " Text(251.81538461538463, 75.2676923076923, 'entropy = 0.0\\nsamples = 2\\nvalue = [0, 0, 2]'),\n",
       " Text(257.53846153846155, 75.2676923076923, 'entropy = 0.0\\nsamples = 1\\nvalue = [0, 1, 0]'),\n",
       " Text(260.4, 91.99384615384615, 'entropy = 0.0\\nsamples = 5\\nvalue = [0, 0, 5]'),\n",
       " Text(263.26153846153846, 108.72, 'entropy = 0.0\\nsamples = 14\\nvalue = [0, 0, 14]'),\n",
       " Text(281.8615384615385, 125.44615384615385, 'X[2] <= 3.5\\nentropy = 0.544\\nsamples = 13\\nvalue = [3, 2, 8]'),\n",
       " Text(271.84615384615387, 108.72, 'X[3] <= 4.5\\nentropy = 0.625\\nsamples = 4\\nvalue = [2, 1, 1]'),\n",
       " Text(266.12307692307695, 91.99384615384615, 'X[0] <= 4.5\\nentropy = 0.5\\nsamples = 2\\nvalue = [1, 1, 0]'),\n",
       " Text(263.26153846153846, 75.2676923076923, 'entropy = 0.0\\nsamples = 1\\nvalue = [1, 0, 0]'),\n",
       " Text(268.9846153846154, 75.2676923076923, 'entropy = 0.0\\nsamples = 1\\nvalue = [0, 1, 0]'),\n",
       " Text(277.5692307692308, 91.99384615384615, 'X[0] <= 4.5\\nentropy = 0.5\\nsamples = 2\\nvalue = [1, 0, 1]'),\n",
       " Text(274.7076923076923, 75.2676923076923, 'entropy = 0.0\\nsamples = 1\\nvalue = [0, 0, 1]'),\n",
       " Text(280.4307692307692, 75.2676923076923, 'entropy = 0.0\\nsamples = 1\\nvalue = [1, 0, 0]'),\n",
       " Text(291.8769230769231, 108.72, 'X[3] <= 3.5\\nentropy = 0.37\\nsamples = 9\\nvalue = [1, 1, 7]'),\n",
       " Text(289.0153846153846, 91.99384615384615, 'X[0] <= 4.5\\nentropy = 0.667\\nsamples = 3\\nvalue = [1, 1, 1]'),\n",
       " Text(286.15384615384613, 75.2676923076923, 'entropy = 0.0\\nsamples = 1\\nvalue = [0, 0, 1]'),\n",
       " Text(291.8769230769231, 75.2676923076923, 'X[2] <= 4.5\\nentropy = 0.5\\nsamples = 2\\nvalue = [1, 1, 0]'),\n",
       " Text(289.0153846153846, 58.541538461538465, 'entropy = 0.0\\nsamples = 1\\nvalue = [0, 1, 0]'),\n",
       " Text(294.73846153846154, 58.541538461538465, 'entropy = 0.0\\nsamples = 1\\nvalue = [1, 0, 0]'),\n",
       " Text(294.73846153846154, 91.99384615384615, 'entropy = 0.0\\nsamples = 6\\nvalue = [0, 0, 6]'),\n",
       " Text(313.33846153846156, 142.1723076923077, 'X[3] <= 4.5\\nentropy = 0.544\\nsamples = 26\\nvalue = [6, 16, 4]'),\n",
       " Text(306.18461538461537, 125.44615384615385, 'X[3] <= 3.5\\nentropy = 0.305\\nsamples = 16\\nvalue = [3, 13, 0]'),\n",
       " Text(303.32307692307694, 108.72, 'entropy = 0.0\\nsamples = 6\\nvalue = [0, 6, 0]'),\n",
       " Text(309.04615384615386, 108.72, 'X[2] <= 4.5\\nentropy = 0.42\\nsamples = 10\\nvalue = [3, 7, 0]'),\n",
       " Text(306.18461538461537, 91.99384615384615, 'X[1] <= 4.5\\nentropy = 0.219\\nsamples = 8\\nvalue = [1, 7, 0]'),\n",
       " Text(303.32307692307694, 75.2676923076923, 'X[2] <= 3.5\\nentropy = 0.375\\nsamples = 4\\nvalue = [1, 3, 0]'),\n",
       " Text(300.46153846153845, 58.541538461538465, 'entropy = 0.0\\nsamples = 2\\nvalue = [0, 2, 0]'),\n",
       " Text(306.18461538461537, 58.541538461538465, 'X[0] <= 4.5\\nentropy = 0.5\\nsamples = 2\\nvalue = [1, 1, 0]'),\n",
       " Text(303.32307692307694, 41.81538461538463, 'entropy = 0.0\\nsamples = 1\\nvalue = [1, 0, 0]'),\n",
       " Text(309.04615384615386, 41.81538461538463, 'entropy = 0.0\\nsamples = 1\\nvalue = [0, 1, 0]'),\n",
       " Text(309.04615384615386, 75.2676923076923, 'entropy = 0.0\\nsamples = 4\\nvalue = [0, 4, 0]'),\n",
       " Text(311.9076923076923, 91.99384615384615, 'entropy = 0.0\\nsamples = 2\\nvalue = [2, 0, 0]'),\n",
       " Text(320.4923076923077, 125.44615384615385, 'X[2] <= 3.5\\nentropy = 0.66\\nsamples = 10\\nvalue = [3, 3, 4]'),\n",
       " Text(317.63076923076926, 108.72, 'entropy = 0.0\\nsamples = 3\\nvalue = [0, 3, 0]'),\n",
       " Text(323.3538461538462, 108.72, 'X[0] <= 4.5\\nentropy = 0.49\\nsamples = 7\\nvalue = [3, 0, 4]'),\n",
       " Text(317.63076923076926, 91.99384615384615, 'X[2] <= 4.5\\nentropy = 0.375\\nsamples = 4\\nvalue = [1, 0, 3]'),\n",
       " Text(314.7692307692308, 75.2676923076923, 'X[1] <= 4.5\\nentropy = 0.5\\nsamples = 2\\nvalue = [1, 0, 1]'),\n",
       " Text(311.9076923076923, 58.541538461538465, 'entropy = 0.0\\nsamples = 1\\nvalue = [0, 0, 1]'),\n",
       " Text(317.63076923076926, 58.541538461538465, 'entropy = 0.0\\nsamples = 1\\nvalue = [1, 0, 0]'),\n",
       " Text(320.4923076923077, 75.2676923076923, 'entropy = 0.0\\nsamples = 2\\nvalue = [0, 0, 2]'),\n",
       " Text(329.0769230769231, 91.99384615384615, 'X[1] <= 4.5\\nentropy = 0.444\\nsamples = 3\\nvalue = [2, 0, 1]'),\n",
       " Text(326.2153846153846, 75.2676923076923, 'X[2] <= 4.5\\nentropy = 0.5\\nsamples = 2\\nvalue = [1, 0, 1]'),\n",
       " Text(323.3538461538462, 58.541538461538465, 'entropy = 0.0\\nsamples = 1\\nvalue = [1, 0, 0]'),\n",
       " Text(329.0769230769231, 58.541538461538465, 'entropy = 0.0\\nsamples = 1\\nvalue = [0, 0, 1]'),\n",
       " Text(331.9384615384615, 75.2676923076923, 'entropy = 0.0\\nsamples = 1\\nvalue = [1, 0, 0]')]"
      ]
     },
     "execution_count": 35,
     "metadata": {},
     "output_type": "execute_result"
    },
    {
     "data": {
      "image/png": "[encoded data removed]",
      "text/plain": [
       "<Figure size 432x288 with 1 Axes>"
      ]
     },
     "metadata": {
      "needs_background": "light"
     },
     "output_type": "display_data"
    }
   ],
   "source": [
    "tree.plot_tree(clf_gini.fit(x_train,y_train))"
   ]
  },
  {
   "cell_type": "code",
   "execution_count": null,
   "metadata": {},
   "outputs": [],
   "source": []
  }
 ],
 "metadata": {
  "kernelspec": {
   "display_name": "Python 3",
   "language": "python",
   "name": "python3"
  },
  "language_info": {
   "codemirror_mode": {
    "name": "ipython",
    "version": 3
   },
   "file_extension": ".py",
   "mimetype": "text/x-python",
   "name": "python",
   "nbconvert_exporter": "python",
   "pygments_lexer": "ipython3",
   "version": "3.7.3"
  }
 },
 "nbformat": 4,
 "nbformat_minor": 2
}
