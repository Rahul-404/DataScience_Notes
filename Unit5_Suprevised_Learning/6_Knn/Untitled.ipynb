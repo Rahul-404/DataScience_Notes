{
 "cells": [
  {
   "cell_type": "code",
   "execution_count": 1,
   "metadata": {},
   "outputs": [],
   "source": [
    "import pandas as pd"
   ]
  },
  {
   "cell_type": "code",
   "execution_count": 2,
   "metadata": {},
   "outputs": [],
   "source": [
    "df1=pd.read_csv('gt_server_data.csv')\n",
    "df2=pd.read_csv('cv_server_data.csv')"
   ]
  },
  {
   "cell_type": "code",
   "execution_count": 3,
   "metadata": {},
   "outputs": [
    {
     "data": {
      "text/plain": [
       "RangeIndex(start=0, stop=307, step=1)"
      ]
     },
     "execution_count": 3,
     "metadata": {},
     "output_type": "execute_result"
    }
   ],
   "source": [
    "df1.index"
   ]
  },
  {
   "cell_type": "code",
   "execution_count": 4,
   "metadata": {},
   "outputs": [],
   "source": [
    "import matplotlib.pyplot as plt"
   ]
  },
  {
   "cell_type": "code",
   "execution_count": 5,
   "metadata": {},
   "outputs": [
    {
     "data": {
      "image/png": "[encoded data removed]",
      "text/plain": [
       "<Figure size 432x288 with 1 Axes>"
      ]
     },
     "metadata": {
      "needs_background": "light"
     },
     "output_type": "display_data"
    }
   ],
   "source": [
    "plt.plot(df1['D'])\n",
    "# plt.scatter(df1['D'],[])\n",
    "plt.show()"
   ]
  },
  {
   "cell_type": "code",
   "execution_count": 6,
   "metadata": {},
   "outputs": [
    {
     "data": {
      "image/png": "[encoded data removed]",
      "text/plain": [
       "<Figure size 432x288 with 1 Axes>"
      ]
     },
     "metadata": {
      "needs_background": "light"
     },
     "output_type": "display_data"
    }
   ],
   "source": [
    "plt.scatter(df2.x,df2.y)\n",
    "plt.show()"
   ]
  },
  {
   "cell_type": "code",
   "execution_count": 7,
   "metadata": {},
   "outputs": [],
   "source": [
    "from sklearn.model_selection import train_test_split"
   ]
  },
  {
   "cell_type": "code",
   "execution_count": 8,
   "metadata": {},
   "outputs": [],
   "source": [
    "x=df2.x\n",
    "y=df2.y"
   ]
  },
  {
   "cell_type": "code",
   "execution_count": 9,
   "metadata": {},
   "outputs": [],
   "source": [
    "x_train,x_test,y_train,y_test=train_test_split(x,y,test_size=0.2,random_state=4)"
   ]
  },
  {
   "cell_type": "code",
   "execution_count": 10,
   "metadata": {},
   "outputs": [
    {
     "data": {
      "text/plain": [
       "(245,)"
      ]
     },
     "execution_count": 10,
     "metadata": {},
     "output_type": "execute_result"
    }
   ],
   "source": [
    "x_train.shape"
   ]
  },
  {
   "cell_type": "code",
   "execution_count": 11,
   "metadata": {},
   "outputs": [
    {
     "data": {
      "text/plain": [
       "(62,)"
      ]
     },
     "execution_count": 11,
     "metadata": {},
     "output_type": "execute_result"
    }
   ],
   "source": [
    "x_test.shape"
   ]
  },
  {
   "cell_type": "code",
   "execution_count": 12,
   "metadata": {},
   "outputs": [],
   "source": [
    "from sklearn.neighbors import KNeighborsClassifier \n",
    "from sklearn import metrics"
   ]
  },
  {
   "cell_type": "code",
   "execution_count": 13,
   "metadata": {},
   "outputs": [],
   "source": [
    "knn=KNeighborsClassifier(n_neighbors=2)"
   ]
  },
  {
   "cell_type": "code",
   "execution_count": 14,
   "metadata": {},
   "outputs": [],
   "source": [
    "x1=x_train.values\n",
    "y1=y_train.values"
   ]
  },
  {
   "cell_type": "code",
   "execution_count": 15,
   "metadata": {},
   "outputs": [
    {
     "name": "stdout",
     "output_type": "stream",
     "text": [
      "<class 'numpy.ndarray'>\n",
      "<class 'numpy.ndarray'>\n"
     ]
    }
   ],
   "source": [
    "print(type(y1))\n",
    "print(type(x1))"
   ]
  },
  {
   "cell_type": "code",
   "execution_count": 16,
   "metadata": {},
   "outputs": [
    {
     "data": {
      "text/plain": [
       "(245,)"
      ]
     },
     "execution_count": 16,
     "metadata": {},
     "output_type": "execute_result"
    }
   ],
   "source": [
    "x1.shape"
   ]
  },
  {
   "cell_type": "code",
   "execution_count": 17,
   "metadata": {},
   "outputs": [
    {
     "data": {
      "text/plain": [
       "(245,)"
      ]
     },
     "execution_count": 17,
     "metadata": {},
     "output_type": "execute_result"
    }
   ],
   "source": [
    "y1.shape"
   ]
  },
  {
   "cell_type": "code",
   "execution_count": 24,
   "metadata": {},
   "outputs": [
    {
     "data": {
      "text/plain": [
       "array([[14.853 ],\n",
       "       [14.061 ],\n",
       "       [15.346 ],\n",
       "       [16.22  ],\n",
       "       [14.582 ],\n",
       "       [13.321 ],\n",
       "       [12.729 ],\n",
       "       [28.542 ],\n",
       "       [13.321 ],\n",
       "       [15.072 ],\n",
       "       [15.143 ],\n",
       "       [13.774 ],\n",
       "       [14.499 ],\n",
       "       [14.67  ],\n",
       "       [14.107 ],\n",
       "       [ 8.7781],\n",
       "       [14.274 ],\n",
       "       [14.52  ],\n",
       "       [13.105 ],\n",
       "       [12.317 ],\n",
       "       [15.185 ],\n",
       "       [13.655 ],\n",
       "       [13.775 ],\n",
       "       [12.138 ],\n",
       "       [14.677 ],\n",
       "       [13.172 ],\n",
       "       [14.351 ],\n",
       "       [13.716 ],\n",
       "       [14.551 ],\n",
       "       [14.551 ],\n",
       "       [19.035 ],\n",
       "       [12.529 ],\n",
       "       [14.822 ],\n",
       "       [13.875 ],\n",
       "       [14.699 ],\n",
       "       [13.309 ],\n",
       "       [14.75  ],\n",
       "       [13.171 ],\n",
       "       [14.625 ],\n",
       "       [15.379 ],\n",
       "       [13.447 ],\n",
       "       [13.805 ],\n",
       "       [13.271 ],\n",
       "       [12.378 ],\n",
       "       [14.112 ],\n",
       "       [13.734 ],\n",
       "       [15.392 ],\n",
       "       [14.293 ],\n",
       "       [11.778 ],\n",
       "       [14.529 ],\n",
       "       [14.089 ],\n",
       "       [15.586 ],\n",
       "       [13.77  ],\n",
       "       [13.774 ],\n",
       "       [13.601 ],\n",
       "       [14.219 ],\n",
       "       [14.384 ],\n",
       "       [15.597 ],\n",
       "       [13.527 ],\n",
       "       [14.295 ],\n",
       "       [14.911 ],\n",
       "       [14.014 ],\n",
       "       [13.767 ],\n",
       "       [13.826 ],\n",
       "       [12.784 ],\n",
       "       [14.219 ],\n",
       "       [13.58  ],\n",
       "       [14.354 ],\n",
       "       [14.22  ],\n",
       "       [12.972 ],\n",
       "       [15.147 ],\n",
       "       [12.858 ],\n",
       "       [13.032 ],\n",
       "       [13.844 ],\n",
       "       [12.986 ],\n",
       "       [13.922 ],\n",
       "       [15.206 ],\n",
       "       [15.342 ],\n",
       "       [14.122 ],\n",
       "       [13.615 ],\n",
       "       [12.963 ],\n",
       "       [13.228 ],\n",
       "       [14.031 ],\n",
       "       [15.326 ],\n",
       "       [13.366 ],\n",
       "       [15.59  ],\n",
       "       [13.689 ],\n",
       "       [14.646 ],\n",
       "       [14.866 ],\n",
       "       [15.605 ],\n",
       "       [13.1   ],\n",
       "       [13.715 ],\n",
       "       [14.449 ],\n",
       "       [12.949 ],\n",
       "       [12.597 ],\n",
       "       [13.714 ],\n",
       "       [13.29  ],\n",
       "       [15.728 ],\n",
       "       [14.07  ],\n",
       "       [12.578 ],\n",
       "       [14.882 ],\n",
       "       [13.095 ],\n",
       "       [14.766 ],\n",
       "       [12.943 ],\n",
       "       [15.22  ],\n",
       "       [13.704 ],\n",
       "       [13.682 ],\n",
       "       [15.245 ],\n",
       "       [14.619 ],\n",
       "       [15.882 ],\n",
       "       [13.635 ],\n",
       "       [13.898 ],\n",
       "       [13.343 ],\n",
       "       [14.434 ],\n",
       "       [13.709 ],\n",
       "       [14.75  ],\n",
       "       [12.254 ],\n",
       "       [15.278 ],\n",
       "       [14.121 ],\n",
       "       [13.217 ],\n",
       "       [14.475 ],\n",
       "       [16.303 ],\n",
       "       [13.022 ],\n",
       "       [15.034 ],\n",
       "       [15.064 ],\n",
       "       [13.008 ],\n",
       "       [13.416 ],\n",
       "       [14.225 ],\n",
       "       [13.216 ],\n",
       "       [13.032 ],\n",
       "       [13.971 ],\n",
       "       [14.763 ],\n",
       "       [12.772 ],\n",
       "       [13.9   ],\n",
       "       [13.542 ],\n",
       "       [11.842 ],\n",
       "       [13.77  ],\n",
       "       [14.756 ],\n",
       "       [15.361 ],\n",
       "       [12.281 ],\n",
       "       [12.799 ],\n",
       "       [15.012 ],\n",
       "       [14.093 ],\n",
       "       [14.745 ],\n",
       "       [14.57  ],\n",
       "       [15.385 ],\n",
       "       [12.299 ],\n",
       "       [ 8.7386],\n",
       "       [14.137 ],\n",
       "       [13.352 ],\n",
       "       [15.151 ],\n",
       "       [17.07  ],\n",
       "       [13.938 ],\n",
       "       [13.464 ],\n",
       "       [14.702 ],\n",
       "       [13.948 ],\n",
       "       [14.742 ],\n",
       "       [12.184 ],\n",
       "       [12.708 ],\n",
       "       [14.377 ],\n",
       "       [12.856 ],\n",
       "       [14.859 ],\n",
       "       [12.371 ],\n",
       "       [14.712 ],\n",
       "       [15.27  ],\n",
       "       [13.928 ],\n",
       "       [13.165 ],\n",
       "       [13.364 ],\n",
       "       [13.386 ],\n",
       "       [15.387 ],\n",
       "       [12.251 ],\n",
       "       [13.4   ],\n",
       "       [13.046 ],\n",
       "       [13.016 ],\n",
       "       [14.326 ],\n",
       "       [13.114 ],\n",
       "       [15.595 ],\n",
       "       [14.552 ],\n",
       "       [13.236 ],\n",
       "       [11.921 ],\n",
       "       [14.281 ],\n",
       "       [14.075 ],\n",
       "       [15.154 ],\n",
       "       [12.714 ],\n",
       "       [13.729 ],\n",
       "       [14.55  ],\n",
       "       [13.835 ],\n",
       "       [14.81  ],\n",
       "       [13.556 ],\n",
       "       [15.146 ],\n",
       "       [14.184 ],\n",
       "       [14.746 ],\n",
       "       [14.599 ],\n",
       "       [14.682 ],\n",
       "       [15.157 ],\n",
       "       [14.162 ],\n",
       "       [14.99  ],\n",
       "       [13.402 ],\n",
       "       [14.228 ],\n",
       "       [13.792 ],\n",
       "       [12.295 ],\n",
       "       [14.584 ],\n",
       "       [12.751 ],\n",
       "       [14.608 ],\n",
       "       [13.857 ],\n",
       "       [13.246 ],\n",
       "       [14.364 ],\n",
       "       [13.886 ],\n",
       "       [13.785 ],\n",
       "       [14.472 ],\n",
       "       [13.87  ],\n",
       "       [15.171 ],\n",
       "       [14.527 ],\n",
       "       [15.113 ],\n",
       "       [13.14  ],\n",
       "       [13.363 ],\n",
       "       [13.585 ],\n",
       "       [12.714 ],\n",
       "       [14.324 ],\n",
       "       [14.69  ],\n",
       "       [13.195 ],\n",
       "       [13.552 ],\n",
       "       [11.622 ],\n",
       "       [14.615 ],\n",
       "       [14.376 ],\n",
       "       [13.342 ],\n",
       "       [14.169 ],\n",
       "       [15.168 ],\n",
       "       [13.775 ],\n",
       "       [12.824 ],\n",
       "       [13.951 ],\n",
       "       [15.79  ],\n",
       "       [13.337 ],\n",
       "       [15.151 ],\n",
       "       [14.026 ],\n",
       "       [14.162 ],\n",
       "       [14.436 ],\n",
       "       [13.553 ],\n",
       "       [13.613 ],\n",
       "       [15.787 ],\n",
       "       [12.374 ],\n",
       "       [13.697 ],\n",
       "       [13.609 ],\n",
       "       [13.292 ],\n",
       "       [14.135 ]])"
      ]
     },
     "execution_count": 24,
     "metadata": {},
     "output_type": "execute_result"
    }
   ],
   "source": [
    "x1=x1.reshape(-1,1)\n",
    "y1=y1.reshape(-1,1)\n",
    "x1"
   ]
  },
  {
   "cell_type": "code",
   "execution_count": 23,
   "metadata": {},
   "outputs": [
    {
     "name": "stderr",
     "output_type": "stream",
     "text": [
      "C:\\Users\\Rahul\\Anaconda3\\lib\\site-packages\\ipykernel_launcher.py:1: DataConversionWarning: A column-vector y was passed when a 1d array was expected. Please change the shape of y to (n_samples, ), for example using ravel().\n",
      "  \"\"\"Entry point for launching an IPython kernel.\n"
     ]
    },
    {
     "ename": "ValueError",
     "evalue": "Unknown label type: 'continuous'",
     "output_type": "error",
     "traceback": [
      "\u001b[1;31m---------------------------------------------------------------------------\u001b[0m",
      "\u001b[1;31mValueError\u001b[0m                                Traceback (most recent call last)",
      "\u001b[1;32m<ipython-input-23-b92278fbb265>\u001b[0m in \u001b[0;36m<module>\u001b[1;34m\u001b[0m\n\u001b[1;32m----> 1\u001b[1;33m \u001b[0mknn\u001b[0m\u001b[1;33m.\u001b[0m\u001b[0mfit\u001b[0m\u001b[1;33m(\u001b[0m\u001b[0mx1\u001b[0m\u001b[1;33m,\u001b[0m\u001b[0my1\u001b[0m\u001b[1;33m)\u001b[0m\u001b[1;33m\u001b[0m\u001b[1;33m\u001b[0m\u001b[0m\n\u001b[0m",
      "\u001b[1;32m~\\Anaconda3\\lib\\site-packages\\sklearn\\neighbors\\base.py\u001b[0m in \u001b[0;36mfit\u001b[1;34m(self, X, y)\u001b[0m\n\u001b[0;32m    904\u001b[0m             \u001b[0mself\u001b[0m\u001b[1;33m.\u001b[0m\u001b[0moutputs_2d_\u001b[0m \u001b[1;33m=\u001b[0m \u001b[1;32mTrue\u001b[0m\u001b[1;33m\u001b[0m\u001b[1;33m\u001b[0m\u001b[0m\n\u001b[0;32m    905\u001b[0m \u001b[1;33m\u001b[0m\u001b[0m\n\u001b[1;32m--> 906\u001b[1;33m         \u001b[0mcheck_classification_targets\u001b[0m\u001b[1;33m(\u001b[0m\u001b[0my\u001b[0m\u001b[1;33m)\u001b[0m\u001b[1;33m\u001b[0m\u001b[1;33m\u001b[0m\u001b[0m\n\u001b[0m\u001b[0;32m    907\u001b[0m         \u001b[0mself\u001b[0m\u001b[1;33m.\u001b[0m\u001b[0mclasses_\u001b[0m \u001b[1;33m=\u001b[0m \u001b[1;33m[\u001b[0m\u001b[1;33m]\u001b[0m\u001b[1;33m\u001b[0m\u001b[1;33m\u001b[0m\u001b[0m\n\u001b[0;32m    908\u001b[0m         \u001b[0mself\u001b[0m\u001b[1;33m.\u001b[0m\u001b[0m_y\u001b[0m \u001b[1;33m=\u001b[0m \u001b[0mnp\u001b[0m\u001b[1;33m.\u001b[0m\u001b[0mempty\u001b[0m\u001b[1;33m(\u001b[0m\u001b[0my\u001b[0m\u001b[1;33m.\u001b[0m\u001b[0mshape\u001b[0m\u001b[1;33m,\u001b[0m \u001b[0mdtype\u001b[0m\u001b[1;33m=\u001b[0m\u001b[0mnp\u001b[0m\u001b[1;33m.\u001b[0m\u001b[0mint\u001b[0m\u001b[1;33m)\u001b[0m\u001b[1;33m\u001b[0m\u001b[1;33m\u001b[0m\u001b[0m\n",
      "\u001b[1;32m~\\Anaconda3\\lib\\site-packages\\sklearn\\utils\\multiclass.py\u001b[0m in \u001b[0;36mcheck_classification_targets\u001b[1;34m(y)\u001b[0m\n\u001b[0;32m    167\u001b[0m     if y_type not in ['binary', 'multiclass', 'multiclass-multioutput',\n\u001b[0;32m    168\u001b[0m                       'multilabel-indicator', 'multilabel-sequences']:\n\u001b[1;32m--> 169\u001b[1;33m         \u001b[1;32mraise\u001b[0m \u001b[0mValueError\u001b[0m\u001b[1;33m(\u001b[0m\u001b[1;34m\"Unknown label type: %r\"\u001b[0m \u001b[1;33m%\u001b[0m \u001b[0my_type\u001b[0m\u001b[1;33m)\u001b[0m\u001b[1;33m\u001b[0m\u001b[1;33m\u001b[0m\u001b[0m\n\u001b[0m\u001b[0;32m    170\u001b[0m \u001b[1;33m\u001b[0m\u001b[0m\n\u001b[0;32m    171\u001b[0m \u001b[1;33m\u001b[0m\u001b[0m\n",
      "\u001b[1;31mValueError\u001b[0m: Unknown label type: 'continuous'"
     ]
    }
   ],
   "source": [
    "knn.fit(x1,y1)"
   ]
  },
  {
   "cell_type": "code",
   "execution_count": null,
   "metadata": {},
   "outputs": [],
   "source": []
  }
 ],
 "metadata": {
  "kernelspec": {
   "display_name": "Python 3",
   "language": "python",
   "name": "python3"
  },
  "language_info": {
   "codemirror_mode": {
    "name": "ipython",
    "version": 3
   },
   "file_extension": ".py",
   "mimetype": "text/x-python",
   "name": "python",
   "nbconvert_exporter": "python",
   "pygments_lexer": "ipython3",
   "version": "3.7.3"
  }
 },
 "nbformat": 4,
 "nbformat_minor": 2
}
